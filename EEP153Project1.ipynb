{
 "cells": [
  {
   "cell_type": "markdown",
   "id": "a9db87f8",
   "metadata": {},
   "source": [
    "# Group Project 1 - Team Adolphe Quételet\n",
    "### Team Members: Lara Gursoy(Project Manager), Jibin Qiu, Yingyin Li, Levi Ding, Qianhao Zhong\n",
    "\n",
    "<br>\n",
    "\n",
    "## **1. Project Goal:**\n",
    "\n",
    "> __Our team is embarking on a comprehensive analysis of the global impact of the COVID-19 pandemic on the world's population. Our primary focus is centered on meticulously examining the mortality rates across various countries and diverse population groups, spanning the years from 2019 to 2022. With a profound commitment to uncovering the narratives concealed within the data, our analytical approach seeks to unveil the nuanced stories that emerge from this critical period of examination.__\n",
    "\n",
    "<br>\n",
    "\n",
    "## **2. Data Description:**\n",
    "\n",
    "> **For this project, we are going to use [World Bank Group (wbdata)](https://wbdata.readthedocs.io/en/stable/), which is a simple Python interface to find and request information from the World Bank’s various databases. It can return data either as a dictionary containing full metadata or as a pandas DataFrame.**\n",
    "\n",
    "> **Subgroups of Population and key variables:**\n",
    "> * **Genders: Male, Female**\n",
    "> * **Ages: 0-13, 14-17, 18-24, 25-44, 45-79, 80>=**\n",
    "> * **Countries: World, US, China, Russia, India, French, UK**\n",
    "> * **Years: 2019-2022**\n",
    "> * **Mortality rate within different countries and the world**\n",
    "\n",
    "<br>\n",
    "\n",
    "## **3. Project Deliverables:**"
   ]
  },
  {
   "cell_type": "markdown",
   "id": "626009bf",
   "metadata": {},
   "source": [
    "### **[A] Data Import:**"
   ]
  },
  {
   "cell_type": "code",
   "execution_count": 1,
   "id": "d2bc938a",
   "metadata": {},
   "outputs": [],
   "source": [
    "# !pip install wbdata\n",
    "# import wbdata\n",
    "# import pandas as pd"
   ]
  },
  {
   "cell_type": "markdown",
   "id": "d1364318",
   "metadata": {},
   "source": [
    "### **[A] Population Statistics:**"
   ]
  },
  {
   "cell_type": "code",
   "execution_count": null,
   "id": "89007d26",
   "metadata": {},
   "outputs": [],
   "source": []
  },
  {
   "cell_type": "markdown",
   "id": "3d0afdfc",
   "metadata": {},
   "source": [
    "### **[A] Unit tests:**"
   ]
  },
  {
   "cell_type": "code",
   "execution_count": null,
   "id": "b2c3ccb9",
   "metadata": {},
   "outputs": [],
   "source": []
  },
  {
   "cell_type": "markdown",
   "id": "14efc63f",
   "metadata": {},
   "source": [
    "### **[A] Population DataFrames:**"
   ]
  },
  {
   "cell_type": "code",
   "execution_count": null,
   "id": "8c52b009",
   "metadata": {},
   "outputs": [],
   "source": []
  },
  {
   "cell_type": "markdown",
   "id": "8e9ebfb5",
   "metadata": {},
   "source": [
    "### **[B] Population Pyramids:**"
   ]
  },
  {
   "cell_type": "code",
   "execution_count": null,
   "id": "b9eecfd2",
   "metadata": {},
   "outputs": [],
   "source": []
  },
  {
   "cell_type": "markdown",
   "id": "70bb40a7",
   "metadata": {},
   "source": [
    "### **[C] Animated Population Pyramids:**"
   ]
  },
  {
   "cell_type": "code",
   "execution_count": null,
   "id": "8eda5ce5",
   "metadata": {},
   "outputs": [],
   "source": []
  },
  {
   "cell_type": "markdown",
   "id": "d799f1cf",
   "metadata": {},
   "source": [
    "### **[C] Population Maps:**"
   ]
  },
  {
   "cell_type": "code",
   "execution_count": null,
   "id": "fd3229e0",
   "metadata": {},
   "outputs": [],
   "source": []
  },
  {
   "cell_type": "markdown",
   "id": "6b204b44",
   "metadata": {},
   "source": [
    "### **[C] Other Visualization Tools:**"
   ]
  },
  {
   "cell_type": "code",
   "execution_count": null,
   "id": "01ffe92a",
   "metadata": {},
   "outputs": [],
   "source": []
  },
  {
   "cell_type": "markdown",
   "id": "44fab528",
   "metadata": {},
   "source": [
    "### **[C] Agricultural Supply:**"
   ]
  },
  {
   "cell_type": "code",
   "execution_count": null,
   "id": "4cc0fa3b",
   "metadata": {},
   "outputs": [],
   "source": []
  },
  {
   "cell_type": "markdown",
   "id": "6c15a184",
   "metadata": {},
   "source": [
    "<br>\n",
    "\n",
    "## **4. Presentation Link:**"
   ]
  },
  {
   "cell_type": "markdown",
   "id": "a8967918",
   "metadata": {},
   "source": []
  },
  {
   "cell_type": "markdown",
   "id": "316262f0",
   "metadata": {},
   "source": [
    "<br>\n",
    "\n",
    "## **5. Project Conclusion:**"
   ]
  },
  {
   "cell_type": "markdown",
   "id": "229731c6",
   "metadata": {},
   "source": []
  }
 ],
 "metadata": {
  "kernelspec": {
   "display_name": "Python 3 (ipykernel)",
   "language": "python",
   "name": "python3"
  },
  "language_info": {
   "codemirror_mode": {
    "name": "ipython",
    "version": 3
   },
   "file_extension": ".py",
   "mimetype": "text/x-python",
   "name": "python",
   "nbconvert_exporter": "python",
   "pygments_lexer": "ipython3",
   "version": "3.11.5"
  }
 },
 "nbformat": 4,
 "nbformat_minor": 5
}
