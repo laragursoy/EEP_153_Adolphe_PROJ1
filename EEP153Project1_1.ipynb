{
 "cells": [
  {
   "cell_type": "markdown",
   "id": "a9db87f8",
   "metadata": {},
   "source": [
    "# Group Project 1 - Team Adolphe Quételet\n",
    "### Team Members: Lara Gursoy, Jibin Qiu, Yingyin Li, Levi Ding, Qianhao Zhong\n",
    "\n",
    "<br>\n",
    "\n",
    "##  <span style = \"color:red\"> **⚠️For codereviewers: Hi codereviewers, we provided some marked-in-red instructions to help you run the code successfully!😄** \r\n",
    "\n",
    "## **1. Project Goal:**\n",
    "\n",
    "> Our team is assessing the global impact of the COVID-19 pandemic on the U.S. and world population. Our goal is to examine the populations of primarily the elderly (age 60 and up) spanning the years from 2015 to 2022, while also controlling for sex and comparing it to the populations of children during the same years.\n",
    "\n",
    "<br>\n",
    "\n",
    "## **2. Data Description:**\n",
    "\n",
    "> For this project, we are going to use [World Bank Group (wbdata)](https://wbdata.readthedocs.io/en/stable/), which is a simple Python interface to find and request information from the World Bank’s various databases. It can return data either as a dictionary containing full metadata or as a pandas DataFrame.\n",
    "\n",
    "> **Subgroups of Population and key variables:**\n",
    "> * **Genders: Male, Female**\n",
    "> * **Ages: 0-14, 19-65, 65>=**\n",
    "> * **Countries: World, US**\n",
    "> * **Years: 2015-2022**\n",
    "\n",
    "<br>\n",
    "\n",
    "## **3. Project Deliverables:**"
   ]
  },
  {
   "cell_type": "markdown",
   "id": "626009bf",
   "metadata": {},
   "source": [
    "### **[A] Data Import:**\n",
    "> ##  <span style = \"color:red\"> **⚠️For codereviewers: Hi codereviewers, once you get four lines of <u>\"Note: you may need to restart the kernel to use updated packages.\"</u>, you are ready to go!** \r\n"
   ]
  },
  {
   "cell_type": "code",
   "execution_count": 21,
   "id": "d2bc938a",
   "metadata": {},
   "outputs": [
    {
     "name": "stdout",
     "output_type": "stream",
     "text": [
      "Note: you may need to restart the kernel to use updated packages.\n",
      "Note: you may need to restart the kernel to use updated packages.\n",
      "Note: you may need to restart the kernel to use updated packages.\n",
      "Note: you may need to restart the kernel to use updated packages.\n"
     ]
    }
   ],
   "source": [
    "# NOTE: I used \"-q\" below, hence it will not have a whole bunch of \"output\".\n",
    "\n",
    "%pip -q install wbdata\n",
    "%pip -q install cufflinks\n",
    "%pip -q install geopandas matplotlib\n",
    "%pip -q install chart_studio\n",
    "\n",
    "import wbdata\n",
    "import pandas as pd\n",
    "import cufflinks as cf\n",
    "import numpy as np\n",
    "import matplotlib.pyplot as plt\n",
    "import plotly.graph_objs as go\n",
    "from plotly.offline import iplot\n",
    "import plotly.offline as py\n",
    "import geopandas as gpd"
   ]
  },
  {
   "cell_type": "code",
   "execution_count": 22,
   "id": "1d17e0e7-c573-4266-b970-7a547fe30197",
   "metadata": {},
   "outputs": [],
   "source": [
    "import warnings\n",
    "warnings.filterwarnings('ignore')"
   ]
  },
  {
   "cell_type": "code",
   "execution_count": 23,
   "id": "7384e8cc",
   "metadata": {},
   "outputs": [],
   "source": [
    "# Uncomment to see indicator Info\n",
    "#wbdata.get_indicators(source= 40)"
   ]
  },
  {
   "cell_type": "code",
   "execution_count": 24,
   "id": "7aec020f",
   "metadata": {},
   "outputs": [],
   "source": [
    "# Uncomment to see country Info\n",
    "#wbdata.get_countries()\n",
    "#wbdata.get_countries()[0][\"id\"]"
   ]
  },
  {
   "cell_type": "markdown",
   "id": "d1364318",
   "metadata": {},
   "source": [
    "### **[A] Population Statistics:**\n",
    "\n",
    "> ##  <span style = \"color:red\"> **⚠️For codereviewers: Hi codereviewers, we have some user-interactive sections after you run the code, please follow the prompt strictly in order to get the output!** \r\n",
    "    \r\n",
    "\r\n",
    "> ##  <span style = \"color:red\"> **⚠️For codereviewers: Hi codereviewers, for age range, \"0004\" means age ranges from 0 years old to 4 years old, \"5054\" means age ranges from 50 years old to 45 years old.** \n"
   ]
  },
  {
   "cell_type": "code",
   "execution_count": 25,
   "id": "43c71122",
   "metadata": {},
   "outputs": [],
   "source": [
    "# This is a function used to answer the following question: \n",
    "# In [year] how many [people/males/females] aged [low] to [high] were living in [the world/region/country]?\n",
    "def population(gender, year, age_range, country):\n",
    "    if str(gender).lower() == \"male\":\n",
    "        sex = \"MA\"\n",
    "    elif str(gender).lower() == \"female\":\n",
    "        sex = \"FE\"\n",
    "    range_0 = len(wbdata.get_data(\"SP.POP.\" + str(age_range) + \".\" + sex, country = [str(country)]))\n",
    "    for index in range(0, range_0):\n",
    "        if wbdata.get_data(\"SP.POP.\" + str(age_range) + \".\" + sex, country = [str(country)])[index][\"date\"] == str(year):\n",
    "            population_stat = wbdata.get_data(\"SP.POP.\" + str(age_range) + \".\" + sex, country = [str(country)])[index][\"value\"]\n",
    "            break\n",
    "    return population_stat\n",
    "\n",
    "# User Input:\n",
    "#user_gender = input(\"Please provide gender (type male or female): \")\n",
    "#user_year = input(\"Please provide year (choose between 1960 and 2022): \")\n",
    "#user_age_range = input(\"Please provide age range (e.g. 0004, 5054): \")\n",
    "#user_country = input(\"Please provide country (use capitalized abbreviation): \")\n",
    "\n",
    "#pop_stat = population(user_gender, user_year, user_age_range, user_country)\n",
    "#print(\"\\t\")\n",
    "#print(\"In \" + user_year + \", there were \" + str(pop_stat) + \" \" + user_gender + \"s in the age group of \" + user_age_range + \" in \" + user_country + \".\")"
   ]
  },
  {
   "cell_type": "code",
   "execution_count": 26,
   "id": "916d6e67",
   "metadata": {},
   "outputs": [],
   "source": [
    "# Manual test on population() function\n",
    "# wbdata.get_data(\"SP.POP.0004.MA\", country=[\"CHN\"])  \n",
    "# wbdata.get_data(\"SP.POP.0004.MA\", country=[\"CHN\"])[0][\"country\"][\"value\"]"
   ]
  },
  {
   "cell_type": "markdown",
   "id": "3d0afdfc",
   "metadata": {},
   "source": [
    "### **[A] Unit tests:**"
   ]
  },
  {
   "cell_type": "code",
   "execution_count": 27,
   "id": "aec5ef46",
   "metadata": {},
   "outputs": [],
   "source": [
    "# test will pass if it doesn't have output\n",
    "assert population(gender = \"male\", year = str(2022), age_range = \"0004\", country = \"CHN\"), \"35331403\""
   ]
  },
  {
   "cell_type": "markdown",
   "id": "f4632590",
   "metadata": {},
   "source": [
    "### **[A] Population DataFrames:**\n",
    "### **_<u>DataFrame I: Male and Female Population within Different Age Intervals from 2015 to 2022 (USA VS. WLD)_**"
   ]
  },
  {
   "cell_type": "code",
   "execution_count": 28,
   "id": "e2868dc6",
   "metadata": {},
   "outputs": [
    {
     "data": {
      "text/html": [
       "<div>\n",
       "<style scoped>\n",
       "    .dataframe tbody tr th:only-of-type {\n",
       "        vertical-align: middle;\n",
       "    }\n",
       "\n",
       "    .dataframe tbody tr th {\n",
       "        vertical-align: top;\n",
       "    }\n",
       "\n",
       "    .dataframe thead th {\n",
       "        text-align: right;\n",
       "    }\n",
       "</style>\n",
       "<table border=\"1\" class=\"dataframe\">\n",
       "  <thead>\n",
       "    <tr style=\"text-align: right;\">\n",
       "      <th></th>\n",
       "      <th></th>\n",
       "      <th>Population ages 60-65, female</th>\n",
       "      <th>Population ages 60-64, male</th>\n",
       "      <th>Population ages 65-69, female</th>\n",
       "      <th>Population ages 65-69, male</th>\n",
       "      <th>Population ages 70-74, female</th>\n",
       "      <th>Population ages 70-74, male</th>\n",
       "      <th>Population ages 75-79, female</th>\n",
       "      <th>Population ages 75-79, male</th>\n",
       "      <th>Population ages 80 and above, female</th>\n",
       "      <th>Population ages 80 and above, male</th>\n",
       "    </tr>\n",
       "    <tr>\n",
       "      <th>country</th>\n",
       "      <th>date</th>\n",
       "      <th></th>\n",
       "      <th></th>\n",
       "      <th></th>\n",
       "      <th></th>\n",
       "      <th></th>\n",
       "      <th></th>\n",
       "      <th></th>\n",
       "      <th></th>\n",
       "      <th></th>\n",
       "      <th></th>\n",
       "    </tr>\n",
       "  </thead>\n",
       "  <tbody>\n",
       "    <tr>\n",
       "      <th rowspan=\"8\" valign=\"top\">United States</th>\n",
       "      <th>2015</th>\n",
       "      <td>9956969.0</td>\n",
       "      <td>9262609.0</td>\n",
       "      <td>8041966.0</td>\n",
       "      <td>7140032.0</td>\n",
       "      <td>5903399.0</td>\n",
       "      <td>5064196.0</td>\n",
       "      <td>4382380.0</td>\n",
       "      <td>3609435.0</td>\n",
       "      <td>7102974.0</td>\n",
       "      <td>4710313.0</td>\n",
       "    </tr>\n",
       "    <tr>\n",
       "      <th>2016</th>\n",
       "      <td>10157117.0</td>\n",
       "      <td>9495289.0</td>\n",
       "      <td>8357596.0</td>\n",
       "      <td>7424089.0</td>\n",
       "      <td>6201121.0</td>\n",
       "      <td>5346021.0</td>\n",
       "      <td>4485106.0</td>\n",
       "      <td>3688393.0</td>\n",
       "      <td>7127848.0</td>\n",
       "      <td>4771920.0</td>\n",
       "    </tr>\n",
       "    <tr>\n",
       "      <th>2017</th>\n",
       "      <td>10241524.0</td>\n",
       "      <td>9603555.0</td>\n",
       "      <td>8574778.0</td>\n",
       "      <td>7677258.0</td>\n",
       "      <td>6638861.0</td>\n",
       "      <td>5731919.0</td>\n",
       "      <td>4613896.0</td>\n",
       "      <td>3775955.0</td>\n",
       "      <td>7142701.0</td>\n",
       "      <td>4828475.0</td>\n",
       "    </tr>\n",
       "    <tr>\n",
       "      <th>2018</th>\n",
       "      <td>10435807.0</td>\n",
       "      <td>9835834.0</td>\n",
       "      <td>8691035.0</td>\n",
       "      <td>7848388.0</td>\n",
       "      <td>6996163.0</td>\n",
       "      <td>6000858.0</td>\n",
       "      <td>4809893.0</td>\n",
       "      <td>3954915.0</td>\n",
       "      <td>7157291.0</td>\n",
       "      <td>4867015.0</td>\n",
       "    </tr>\n",
       "    <tr>\n",
       "      <th>2019</th>\n",
       "      <td>10564689.0</td>\n",
       "      <td>10001191.0</td>\n",
       "      <td>9015729.0</td>\n",
       "      <td>8171594.0</td>\n",
       "      <td>7227138.0</td>\n",
       "      <td>6216210.0</td>\n",
       "      <td>4994841.0</td>\n",
       "      <td>4111835.0</td>\n",
       "      <td>7191218.0</td>\n",
       "      <td>4920646.0</td>\n",
       "    </tr>\n",
       "    <tr>\n",
       "      <th>2020</th>\n",
       "      <td>10724223.0</td>\n",
       "      <td>10175797.0</td>\n",
       "      <td>9509650.0</td>\n",
       "      <td>8649904.0</td>\n",
       "      <td>7454655.0</td>\n",
       "      <td>6418700.0</td>\n",
       "      <td>5166253.0</td>\n",
       "      <td>4226291.0</td>\n",
       "      <td>7322827.0</td>\n",
       "      <td>5034159.0</td>\n",
       "    </tr>\n",
       "    <tr>\n",
       "      <th>2021</th>\n",
       "      <td>10788833.0</td>\n",
       "      <td>10227073.0</td>\n",
       "      <td>9674037.0</td>\n",
       "      <td>8817967.0</td>\n",
       "      <td>7728504.0</td>\n",
       "      <td>6629666.0</td>\n",
       "      <td>5440730.0</td>\n",
       "      <td>4460195.0</td>\n",
       "      <td>7484272.0</td>\n",
       "      <td>5143826.0</td>\n",
       "    </tr>\n",
       "    <tr>\n",
       "      <th>2022</th>\n",
       "      <td>10828271.0</td>\n",
       "      <td>10240539.0</td>\n",
       "      <td>9747250.0</td>\n",
       "      <td>8889134.0</td>\n",
       "      <td>7933581.0</td>\n",
       "      <td>6834253.0</td>\n",
       "      <td>5857505.0</td>\n",
       "      <td>4802329.0</td>\n",
       "      <td>7722729.0</td>\n",
       "      <td>5299113.0</td>\n",
       "    </tr>\n",
       "    <tr>\n",
       "      <th rowspan=\"8\" valign=\"top\">World</th>\n",
       "      <th>2015</th>\n",
       "      <td>151285055.0</td>\n",
       "      <td>140492250.0</td>\n",
       "      <td>114998466.0</td>\n",
       "      <td>103024485.0</td>\n",
       "      <td>83166445.0</td>\n",
       "      <td>70526173.0</td>\n",
       "      <td>66023585.0</td>\n",
       "      <td>50521163.0</td>\n",
       "      <td>80816746.0</td>\n",
       "      <td>48367873.0</td>\n",
       "    </tr>\n",
       "    <tr>\n",
       "      <th>2016</th>\n",
       "      <td>155564979.0</td>\n",
       "      <td>144543021.0</td>\n",
       "      <td>121180717.0</td>\n",
       "      <td>108296391.0</td>\n",
       "      <td>85005389.0</td>\n",
       "      <td>72318266.0</td>\n",
       "      <td>67260494.0</td>\n",
       "      <td>51638226.0</td>\n",
       "      <td>83423015.0</td>\n",
       "      <td>50197004.0</td>\n",
       "    </tr>\n",
       "    <tr>\n",
       "      <th>2017</th>\n",
       "      <td>159387746.0</td>\n",
       "      <td>148230974.0</td>\n",
       "      <td>126815268.0</td>\n",
       "      <td>113103534.0</td>\n",
       "      <td>88443876.0</td>\n",
       "      <td>75368151.0</td>\n",
       "      <td>68157981.0</td>\n",
       "      <td>52527317.0</td>\n",
       "      <td>86133610.0</td>\n",
       "      <td>52071420.0</td>\n",
       "    </tr>\n",
       "    <tr>\n",
       "      <th>2018</th>\n",
       "      <td>162763505.0</td>\n",
       "      <td>151573109.0</td>\n",
       "      <td>132160154.0</td>\n",
       "      <td>117695493.0</td>\n",
       "      <td>92938914.0</td>\n",
       "      <td>79104095.0</td>\n",
       "      <td>68815989.0</td>\n",
       "      <td>53376973.0</td>\n",
       "      <td>88864405.0</td>\n",
       "      <td>53948115.0</td>\n",
       "    </tr>\n",
       "    <tr>\n",
       "      <th>2019</th>\n",
       "      <td>164706399.0</td>\n",
       "      <td>153561526.0</td>\n",
       "      <td>137213596.0</td>\n",
       "      <td>122077328.0</td>\n",
       "      <td>98109888.0</td>\n",
       "      <td>83312349.0</td>\n",
       "      <td>69596180.0</td>\n",
       "      <td>54363943.0</td>\n",
       "      <td>91528028.0</td>\n",
       "      <td>55788289.0</td>\n",
       "    </tr>\n",
       "    <tr>\n",
       "      <th>2020</th>\n",
       "      <td>165529683.0</td>\n",
       "      <td>154440614.0</td>\n",
       "      <td>141960156.0</td>\n",
       "      <td>126205526.0</td>\n",
       "      <td>103925353.0</td>\n",
       "      <td>87911407.0</td>\n",
       "      <td>70455922.0</td>\n",
       "      <td>55248473.0</td>\n",
       "      <td>94006592.0</td>\n",
       "      <td>57359239.0</td>\n",
       "    </tr>\n",
       "    <tr>\n",
       "      <th>2021</th>\n",
       "      <td>165964011.0</td>\n",
       "      <td>154831185.0</td>\n",
       "      <td>145667772.0</td>\n",
       "      <td>129374440.0</td>\n",
       "      <td>109252199.0</td>\n",
       "      <td>91919998.0</td>\n",
       "      <td>71826581.0</td>\n",
       "      <td>56378705.0</td>\n",
       "      <td>95852414.0</td>\n",
       "      <td>58369322.0</td>\n",
       "    </tr>\n",
       "    <tr>\n",
       "      <th>2022</th>\n",
       "      <td>167689827.0</td>\n",
       "      <td>156526287.0</td>\n",
       "      <td>148749045.0</td>\n",
       "      <td>132124387.0</td>\n",
       "      <td>113874347.0</td>\n",
       "      <td>95432173.0</td>\n",
       "      <td>74460836.0</td>\n",
       "      <td>58482768.0</td>\n",
       "      <td>97223184.0</td>\n",
       "      <td>59258563.0</td>\n",
       "    </tr>\n",
       "  </tbody>\n",
       "</table>\n",
       "</div>"
      ],
      "text/plain": [
       "                    Population ages 60-65, female  \\\n",
       "country       date                                  \n",
       "United States 2015                      9956969.0   \n",
       "              2016                     10157117.0   \n",
       "              2017                     10241524.0   \n",
       "              2018                     10435807.0   \n",
       "              2019                     10564689.0   \n",
       "              2020                     10724223.0   \n",
       "              2021                     10788833.0   \n",
       "              2022                     10828271.0   \n",
       "World         2015                    151285055.0   \n",
       "              2016                    155564979.0   \n",
       "              2017                    159387746.0   \n",
       "              2018                    162763505.0   \n",
       "              2019                    164706399.0   \n",
       "              2020                    165529683.0   \n",
       "              2021                    165964011.0   \n",
       "              2022                    167689827.0   \n",
       "\n",
       "                    Population ages 60-64, male  \\\n",
       "country       date                                \n",
       "United States 2015                    9262609.0   \n",
       "              2016                    9495289.0   \n",
       "              2017                    9603555.0   \n",
       "              2018                    9835834.0   \n",
       "              2019                   10001191.0   \n",
       "              2020                   10175797.0   \n",
       "              2021                   10227073.0   \n",
       "              2022                   10240539.0   \n",
       "World         2015                  140492250.0   \n",
       "              2016                  144543021.0   \n",
       "              2017                  148230974.0   \n",
       "              2018                  151573109.0   \n",
       "              2019                  153561526.0   \n",
       "              2020                  154440614.0   \n",
       "              2021                  154831185.0   \n",
       "              2022                  156526287.0   \n",
       "\n",
       "                    Population ages 65-69, female  \\\n",
       "country       date                                  \n",
       "United States 2015                      8041966.0   \n",
       "              2016                      8357596.0   \n",
       "              2017                      8574778.0   \n",
       "              2018                      8691035.0   \n",
       "              2019                      9015729.0   \n",
       "              2020                      9509650.0   \n",
       "              2021                      9674037.0   \n",
       "              2022                      9747250.0   \n",
       "World         2015                    114998466.0   \n",
       "              2016                    121180717.0   \n",
       "              2017                    126815268.0   \n",
       "              2018                    132160154.0   \n",
       "              2019                    137213596.0   \n",
       "              2020                    141960156.0   \n",
       "              2021                    145667772.0   \n",
       "              2022                    148749045.0   \n",
       "\n",
       "                    Population ages 65-69, male  \\\n",
       "country       date                                \n",
       "United States 2015                    7140032.0   \n",
       "              2016                    7424089.0   \n",
       "              2017                    7677258.0   \n",
       "              2018                    7848388.0   \n",
       "              2019                    8171594.0   \n",
       "              2020                    8649904.0   \n",
       "              2021                    8817967.0   \n",
       "              2022                    8889134.0   \n",
       "World         2015                  103024485.0   \n",
       "              2016                  108296391.0   \n",
       "              2017                  113103534.0   \n",
       "              2018                  117695493.0   \n",
       "              2019                  122077328.0   \n",
       "              2020                  126205526.0   \n",
       "              2021                  129374440.0   \n",
       "              2022                  132124387.0   \n",
       "\n",
       "                    Population ages 70-74, female  \\\n",
       "country       date                                  \n",
       "United States 2015                      5903399.0   \n",
       "              2016                      6201121.0   \n",
       "              2017                      6638861.0   \n",
       "              2018                      6996163.0   \n",
       "              2019                      7227138.0   \n",
       "              2020                      7454655.0   \n",
       "              2021                      7728504.0   \n",
       "              2022                      7933581.0   \n",
       "World         2015                     83166445.0   \n",
       "              2016                     85005389.0   \n",
       "              2017                     88443876.0   \n",
       "              2018                     92938914.0   \n",
       "              2019                     98109888.0   \n",
       "              2020                    103925353.0   \n",
       "              2021                    109252199.0   \n",
       "              2022                    113874347.0   \n",
       "\n",
       "                    Population ages 70-74, male  \\\n",
       "country       date                                \n",
       "United States 2015                    5064196.0   \n",
       "              2016                    5346021.0   \n",
       "              2017                    5731919.0   \n",
       "              2018                    6000858.0   \n",
       "              2019                    6216210.0   \n",
       "              2020                    6418700.0   \n",
       "              2021                    6629666.0   \n",
       "              2022                    6834253.0   \n",
       "World         2015                   70526173.0   \n",
       "              2016                   72318266.0   \n",
       "              2017                   75368151.0   \n",
       "              2018                   79104095.0   \n",
       "              2019                   83312349.0   \n",
       "              2020                   87911407.0   \n",
       "              2021                   91919998.0   \n",
       "              2022                   95432173.0   \n",
       "\n",
       "                    Population ages 75-79, female  \\\n",
       "country       date                                  \n",
       "United States 2015                      4382380.0   \n",
       "              2016                      4485106.0   \n",
       "              2017                      4613896.0   \n",
       "              2018                      4809893.0   \n",
       "              2019                      4994841.0   \n",
       "              2020                      5166253.0   \n",
       "              2021                      5440730.0   \n",
       "              2022                      5857505.0   \n",
       "World         2015                     66023585.0   \n",
       "              2016                     67260494.0   \n",
       "              2017                     68157981.0   \n",
       "              2018                     68815989.0   \n",
       "              2019                     69596180.0   \n",
       "              2020                     70455922.0   \n",
       "              2021                     71826581.0   \n",
       "              2022                     74460836.0   \n",
       "\n",
       "                    Population ages 75-79, male  \\\n",
       "country       date                                \n",
       "United States 2015                    3609435.0   \n",
       "              2016                    3688393.0   \n",
       "              2017                    3775955.0   \n",
       "              2018                    3954915.0   \n",
       "              2019                    4111835.0   \n",
       "              2020                    4226291.0   \n",
       "              2021                    4460195.0   \n",
       "              2022                    4802329.0   \n",
       "World         2015                   50521163.0   \n",
       "              2016                   51638226.0   \n",
       "              2017                   52527317.0   \n",
       "              2018                   53376973.0   \n",
       "              2019                   54363943.0   \n",
       "              2020                   55248473.0   \n",
       "              2021                   56378705.0   \n",
       "              2022                   58482768.0   \n",
       "\n",
       "                    Population ages 80 and above, female  \\\n",
       "country       date                                         \n",
       "United States 2015                             7102974.0   \n",
       "              2016                             7127848.0   \n",
       "              2017                             7142701.0   \n",
       "              2018                             7157291.0   \n",
       "              2019                             7191218.0   \n",
       "              2020                             7322827.0   \n",
       "              2021                             7484272.0   \n",
       "              2022                             7722729.0   \n",
       "World         2015                            80816746.0   \n",
       "              2016                            83423015.0   \n",
       "              2017                            86133610.0   \n",
       "              2018                            88864405.0   \n",
       "              2019                            91528028.0   \n",
       "              2020                            94006592.0   \n",
       "              2021                            95852414.0   \n",
       "              2022                            97223184.0   \n",
       "\n",
       "                    Population ages 80 and above, male  \n",
       "country       date                                      \n",
       "United States 2015                           4710313.0  \n",
       "              2016                           4771920.0  \n",
       "              2017                           4828475.0  \n",
       "              2018                           4867015.0  \n",
       "              2019                           4920646.0  \n",
       "              2020                           5034159.0  \n",
       "              2021                           5143826.0  \n",
       "              2022                           5299113.0  \n",
       "World         2015                          48367873.0  \n",
       "              2016                          50197004.0  \n",
       "              2017                          52071420.0  \n",
       "              2018                          53948115.0  \n",
       "              2019                          55788289.0  \n",
       "              2020                          57359239.0  \n",
       "              2021                          58369322.0  \n",
       "              2022                          59258563.0  "
      ]
     },
     "execution_count": 28,
     "metadata": {},
     "output_type": "execute_result"
    }
   ],
   "source": [
    "indicators = {\"SP.POP.6064.FE\":\"Population ages 60-65, female\",\n",
    "               \"SP.POP.6064.MA\":\"Population ages 60-64, male\",\n",
    "               \"SP.POP.6569.FE\":\"Population ages 65-69, female\",\n",
    "               \"SP.POP.6569.MA\":\"Population ages 65-69, male\",\n",
    "               \"SP.POP.7074.FE\":\"Population ages 70-74, female\",\n",
    "               \"SP.POP.7074.MA\":\"Population ages 70-74, male\",\n",
    "               \"SP.POP.7579.FE\":\"Population ages 75-79, female\",\n",
    "               \"SP.POP.7579.MA\":\"Population ages 75-79, male\",\n",
    "               \"SP.POP.80UP.FE\":\"Population ages 80 and above, female\",\n",
    "               \"SP.POP.80UP.MA\":\"Population ages 80 and above, male\"}\n",
    "\n",
    "\n",
    "data = wbdata.get_dataframe(indicators, country=['USA', 'WLD'])\n",
    "\n",
    "\n",
    "# Make years ints instead of strings\n",
    "data.reset_index(inplace=True)\n",
    "\n",
    "\n",
    "selected_years = [\"2015\",\"2016\",\"2017\",\"2018\",'2019', '2020', '2021', '2022']\n",
    "data = data[data['date'].isin(selected_years)]\n",
    "data.set_index(['country','date'],inplace=True)\n",
    "data.sort_index(ascending=True, inplace=True)\n",
    "data"
   ]
  },
  {
   "cell_type": "markdown",
   "id": "43e3ddfc",
   "metadata": {},
   "source": [
    "### **_<u>DataFrame II: Male and Female Populations Aged 19 to 65 (adults) from 2015 to 2020 (USA)_**"
   ]
  },
  {
   "cell_type": "code",
   "execution_count": 29,
   "id": "aeb55505",
   "metadata": {},
   "outputs": [
    {
     "data": {
      "text/html": [
       "<div>\n",
       "<style scoped>\n",
       "    .dataframe tbody tr th:only-of-type {\n",
       "        vertical-align: middle;\n",
       "    }\n",
       "\n",
       "    .dataframe tbody tr th {\n",
       "        vertical-align: top;\n",
       "    }\n",
       "\n",
       "    .dataframe thead th {\n",
       "        text-align: right;\n",
       "    }\n",
       "</style>\n",
       "<table border=\"1\" class=\"dataframe\">\n",
       "  <thead>\n",
       "    <tr style=\"text-align: right;\">\n",
       "      <th></th>\n",
       "      <th>US Male Adult (Age 19-65)</th>\n",
       "      <th>US Female Adult (Age 19-65)</th>\n",
       "    </tr>\n",
       "    <tr>\n",
       "      <th>Year</th>\n",
       "      <th></th>\n",
       "      <th></th>\n",
       "    </tr>\n",
       "  </thead>\n",
       "  <tbody>\n",
       "    <tr>\n",
       "      <th>2015</th>\n",
       "      <td>95132028</td>\n",
       "      <td>96096075</td>\n",
       "    </tr>\n",
       "    <tr>\n",
       "      <th>2016</th>\n",
       "      <td>94064916</td>\n",
       "      <td>95104779</td>\n",
       "    </tr>\n",
       "    <tr>\n",
       "      <th>2017</th>\n",
       "      <td>93491670</td>\n",
       "      <td>94703976</td>\n",
       "    </tr>\n",
       "    <tr>\n",
       "      <th>2018</th>\n",
       "      <td>92879280</td>\n",
       "      <td>94344428</td>\n",
       "    </tr>\n",
       "    <tr>\n",
       "      <th>2019</th>\n",
       "      <td>92173137</td>\n",
       "      <td>93883072</td>\n",
       "    </tr>\n",
       "    <tr>\n",
       "      <th>2020</th>\n",
       "      <td>91248062</td>\n",
       "      <td>93159270</td>\n",
       "    </tr>\n",
       "  </tbody>\n",
       "</table>\n",
       "</div>"
      ],
      "text/plain": [
       "      US Male Adult (Age 19-65)  US Female Adult (Age 19-65)\n",
       "Year                                                        \n",
       "2015                   95132028                     96096075\n",
       "2016                   94064916                     95104779\n",
       "2017                   93491670                     94703976\n",
       "2018                   92879280                     94344428\n",
       "2019                   92173137                     93883072\n",
       "2020                   91248062                     93159270"
      ]
     },
     "execution_count": 29,
     "metadata": {},
     "output_type": "execute_result"
    }
   ],
   "source": [
    "# Create DataFrame Basics\n",
    "list_index_before = 0\n",
    "list_index_post = 6\n",
    "list_index_before_Male = 0\n",
    "list_index_post_Male = 6\n",
    "pop_15 = 0\n",
    "pop_16 = 0\n",
    "pop_17 = 0\n",
    "pop_18 = 0\n",
    "pop_19 = 0\n",
    "pop_20 = 0\n",
    "pop_15_Male = 0\n",
    "pop_16_Male = 0\n",
    "pop_17_Male = 0\n",
    "pop_18_Male = 0\n",
    "pop_19_Male = 0\n",
    "pop_20_Male = 0\n",
    "FE_adult_list = []\n",
    "MA_adult_list = []\n",
    "\n",
    "# Female Adult Population from 2015 to 2020\n",
    "age_before = 20\n",
    "age_post = 24\n",
    "\n",
    "population_adult_FE = []\n",
    "population_adult_MA = []\n",
    "\n",
    "while age_post in range(0, 66):\n",
    "    age_before = age_post + 1\n",
    "    age_post += 4 + 1\n",
    "    age_str = str(age_before) + str(age_post)\n",
    "    age_str = \"SP.POP.\" + str(age_str) + \".FE\"\n",
    "    source = str(age_str)\n",
    "    range_1 = len(wbdata.get_data(source, country=[\"USA\"]))\n",
    "    for index_1 in range(0, range_1):\n",
    "        for year in range(2015, 2021):\n",
    "            if wbdata.get_data(source, country=[\"USA\"])[index_1][\"date\"] == str(year):\n",
    "                population_adult_FE.append(wbdata.get_data(source, country=[\"USA\"])[index_1][\"value\"])\n",
    "\n",
    "while list_index_before in range(0, len(population_adult_FE)):\n",
    "    six_ele_list_FE = population_adult_FE[list_index_before:(list_index_post)]\n",
    "    list_index_before = list_index_post\n",
    "    list_index_post += 6 \n",
    "    pop_15 += six_ele_list_FE[0]\n",
    "    pop_16 += six_ele_list_FE[1]\n",
    "    pop_17 += six_ele_list_FE[2]\n",
    "    pop_18 += six_ele_list_FE[3]\n",
    "    pop_19 += six_ele_list_FE[4]\n",
    "    pop_20 += six_ele_list_FE[5]\n",
    "FE_adult_list.append(pop_15)\n",
    "FE_adult_list.append(pop_16)\n",
    "FE_adult_list.append(pop_17)\n",
    "FE_adult_list.append(pop_18)\n",
    "FE_adult_list.append(pop_19)\n",
    "FE_adult_list.append(pop_20)\n",
    "\n",
    "# Male Adult Population from 2015 to 2020\n",
    "age_before = 20\n",
    "age_post = 24\n",
    "\n",
    "population_adult_MA = []\n",
    "while age_post in range(0, 66):\n",
    "    age_before = age_post + 1\n",
    "    age_post += 4 + 1\n",
    "    age_str = str(age_before) + str(age_post)\n",
    "    age_str = \"SP.POP.\" + str(age_str) + \".MA\"\n",
    "    source = str(age_str)\n",
    "    range_1 = len(wbdata.get_data(source, country=[\"USA\"]))\n",
    "    for index_1 in range(0, range_1):\n",
    "        for year in range(2015, 2021):\n",
    "            if wbdata.get_data(source, country=[\"USA\"])[index_1][\"date\"] == str(year):\n",
    "                population_adult_MA.append(wbdata.get_data(source, country=[\"USA\"])[index_1][\"value\"])\n",
    "\n",
    "while list_index_before_Male in range(0, len(population_adult_MA)):\n",
    "    six_ele_list_MA = population_adult_MA[list_index_before_Male:(list_index_post_Male)]\n",
    "    list_index_before_Male = list_index_post_Male\n",
    "    list_index_post_Male += 6 \n",
    "    pop_15_Male += six_ele_list_MA[0]\n",
    "    pop_16_Male += six_ele_list_MA[1]\n",
    "    pop_17_Male += six_ele_list_MA[2]\n",
    "    pop_18_Male += six_ele_list_MA[3]\n",
    "    pop_19_Male += six_ele_list_MA[4]\n",
    "    pop_20_Male += six_ele_list_MA[5]\n",
    "MA_adult_list.append(pop_15_Male)\n",
    "MA_adult_list.append(pop_16_Male)\n",
    "MA_adult_list.append(pop_17_Male)\n",
    "MA_adult_list.append(pop_18_Male)\n",
    "MA_adult_list.append(pop_19_Male)\n",
    "MA_adult_list.append(pop_20_Male)\n",
    "    \n",
    "year_list = [2015, 2016, 2017, 2018, 2019, 2020]\n",
    "df_1 = pd.DataFrame({\"Year\": year_list, \"US Male Adult (Age 19-65)\": MA_adult_list, 'US Female Adult (Age 19-65)': FE_adult_list})\n",
    "df_1.set_index('Year', inplace=True)\n",
    "df_1"
   ]
  },
  {
   "cell_type": "markdown",
   "id": "8e9ebfb5",
   "metadata": {},
   "source": [
    "### **[B] Population Pyramids:**"
   ]
  },
  {
   "cell_type": "code",
   "execution_count": 30,
   "id": "b9eecfd2",
   "metadata": {},
   "outputs": [
    {
     "name": "stdin",
     "output_type": "stream",
     "text": [
      "Please enter the year:  2020\n",
      "Please enter the country name:  USA\n"
     ]
    },
    {
     "data": {
      "application/vnd.plotly.v1+json": {
       "config": {
        "linkText": "Export to plot.ly",
        "plotlyServerURL": "https://plot.ly",
        "showLink": false
       },
       "data": [
        {
         "marker": {
          "color": "green"
         },
         "name": "Male",
         "orientation": "h",
         "type": "bar",
         "x": [
          9852347,
          10415543,
          11134875,
          11075090,
          11019470,
          11624513,
          11559052,
          11181543,
          10435554,
          10280074,
          10473078,
          10752513,
          10175797,
          8649904,
          6418700,
          4226291
         ],
         "y": [
          "0-4",
          "5-9",
          "10-14",
          "15-19",
          "20-24",
          "25-29",
          "30-34",
          "35-39",
          "40-44",
          "45-49",
          "50-54",
          "55-59",
          "60-64",
          "65-69",
          "70-74",
          "75-79"
         ]
        },
        {
         "marker": {
          "color": "maroon"
         },
         "name": "Female",
         "orientation": "h",
         "type": "bar",
         "x": [
          -9417809,
          -9939364,
          -10607318,
          -10600168,
          -10598541,
          -11276010,
          -11286667,
          -10952946,
          -10377044,
          -10279207,
          -10548138,
          -11142190,
          -10724223,
          -9509650,
          -7454655,
          -5166253
         ],
         "y": [
          "0-4",
          "5-9",
          "10-14",
          "15-19",
          "20-24",
          "25-29",
          "30-34",
          "35-39",
          "40-44",
          "45-49",
          "50-54",
          "55-59",
          "60-64",
          "65-69",
          "70-74",
          "75-79"
         ]
        }
       ],
       "layout": {
        "autosize": true,
        "barmode": "overlay",
        "template": {
         "data": {
          "bar": [
           {
            "error_x": {
             "color": "#2a3f5f"
            },
            "error_y": {
             "color": "#2a3f5f"
            },
            "marker": {
             "line": {
              "color": "#E5ECF6",
              "width": 0.5
             },
             "pattern": {
              "fillmode": "overlay",
              "size": 10,
              "solidity": 0.2
             }
            },
            "type": "bar"
           }
          ],
          "barpolar": [
           {
            "marker": {
             "line": {
              "color": "#E5ECF6",
              "width": 0.5
             },
             "pattern": {
              "fillmode": "overlay",
              "size": 10,
              "solidity": 0.2
             }
            },
            "type": "barpolar"
           }
          ],
          "carpet": [
           {
            "aaxis": {
             "endlinecolor": "#2a3f5f",
             "gridcolor": "white",
             "linecolor": "white",
             "minorgridcolor": "white",
             "startlinecolor": "#2a3f5f"
            },
            "baxis": {
             "endlinecolor": "#2a3f5f",
             "gridcolor": "white",
             "linecolor": "white",
             "minorgridcolor": "white",
             "startlinecolor": "#2a3f5f"
            },
            "type": "carpet"
           }
          ],
          "choropleth": [
           {
            "colorbar": {
             "outlinewidth": 0,
             "ticks": ""
            },
            "type": "choropleth"
           }
          ],
          "contour": [
           {
            "colorbar": {
             "outlinewidth": 0,
             "ticks": ""
            },
            "colorscale": [
             [
              0,
              "#0d0887"
             ],
             [
              0.1111111111111111,
              "#46039f"
             ],
             [
              0.2222222222222222,
              "#7201a8"
             ],
             [
              0.3333333333333333,
              "#9c179e"
             ],
             [
              0.4444444444444444,
              "#bd3786"
             ],
             [
              0.5555555555555556,
              "#d8576b"
             ],
             [
              0.6666666666666666,
              "#ed7953"
             ],
             [
              0.7777777777777778,
              "#fb9f3a"
             ],
             [
              0.8888888888888888,
              "#fdca26"
             ],
             [
              1,
              "#f0f921"
             ]
            ],
            "type": "contour"
           }
          ],
          "contourcarpet": [
           {
            "colorbar": {
             "outlinewidth": 0,
             "ticks": ""
            },
            "type": "contourcarpet"
           }
          ],
          "heatmap": [
           {
            "colorbar": {
             "outlinewidth": 0,
             "ticks": ""
            },
            "colorscale": [
             [
              0,
              "#0d0887"
             ],
             [
              0.1111111111111111,
              "#46039f"
             ],
             [
              0.2222222222222222,
              "#7201a8"
             ],
             [
              0.3333333333333333,
              "#9c179e"
             ],
             [
              0.4444444444444444,
              "#bd3786"
             ],
             [
              0.5555555555555556,
              "#d8576b"
             ],
             [
              0.6666666666666666,
              "#ed7953"
             ],
             [
              0.7777777777777778,
              "#fb9f3a"
             ],
             [
              0.8888888888888888,
              "#fdca26"
             ],
             [
              1,
              "#f0f921"
             ]
            ],
            "type": "heatmap"
           }
          ],
          "heatmapgl": [
           {
            "colorbar": {
             "outlinewidth": 0,
             "ticks": ""
            },
            "colorscale": [
             [
              0,
              "#0d0887"
             ],
             [
              0.1111111111111111,
              "#46039f"
             ],
             [
              0.2222222222222222,
              "#7201a8"
             ],
             [
              0.3333333333333333,
              "#9c179e"
             ],
             [
              0.4444444444444444,
              "#bd3786"
             ],
             [
              0.5555555555555556,
              "#d8576b"
             ],
             [
              0.6666666666666666,
              "#ed7953"
             ],
             [
              0.7777777777777778,
              "#fb9f3a"
             ],
             [
              0.8888888888888888,
              "#fdca26"
             ],
             [
              1,
              "#f0f921"
             ]
            ],
            "type": "heatmapgl"
           }
          ],
          "histogram": [
           {
            "marker": {
             "pattern": {
              "fillmode": "overlay",
              "size": 10,
              "solidity": 0.2
             }
            },
            "type": "histogram"
           }
          ],
          "histogram2d": [
           {
            "colorbar": {
             "outlinewidth": 0,
             "ticks": ""
            },
            "colorscale": [
             [
              0,
              "#0d0887"
             ],
             [
              0.1111111111111111,
              "#46039f"
             ],
             [
              0.2222222222222222,
              "#7201a8"
             ],
             [
              0.3333333333333333,
              "#9c179e"
             ],
             [
              0.4444444444444444,
              "#bd3786"
             ],
             [
              0.5555555555555556,
              "#d8576b"
             ],
             [
              0.6666666666666666,
              "#ed7953"
             ],
             [
              0.7777777777777778,
              "#fb9f3a"
             ],
             [
              0.8888888888888888,
              "#fdca26"
             ],
             [
              1,
              "#f0f921"
             ]
            ],
            "type": "histogram2d"
           }
          ],
          "histogram2dcontour": [
           {
            "colorbar": {
             "outlinewidth": 0,
             "ticks": ""
            },
            "colorscale": [
             [
              0,
              "#0d0887"
             ],
             [
              0.1111111111111111,
              "#46039f"
             ],
             [
              0.2222222222222222,
              "#7201a8"
             ],
             [
              0.3333333333333333,
              "#9c179e"
             ],
             [
              0.4444444444444444,
              "#bd3786"
             ],
             [
              0.5555555555555556,
              "#d8576b"
             ],
             [
              0.6666666666666666,
              "#ed7953"
             ],
             [
              0.7777777777777778,
              "#fb9f3a"
             ],
             [
              0.8888888888888888,
              "#fdca26"
             ],
             [
              1,
              "#f0f921"
             ]
            ],
            "type": "histogram2dcontour"
           }
          ],
          "mesh3d": [
           {
            "colorbar": {
             "outlinewidth": 0,
             "ticks": ""
            },
            "type": "mesh3d"
           }
          ],
          "parcoords": [
           {
            "line": {
             "colorbar": {
              "outlinewidth": 0,
              "ticks": ""
             }
            },
            "type": "parcoords"
           }
          ],
          "pie": [
           {
            "automargin": true,
            "type": "pie"
           }
          ],
          "scatter": [
           {
            "fillpattern": {
             "fillmode": "overlay",
             "size": 10,
             "solidity": 0.2
            },
            "type": "scatter"
           }
          ],
          "scatter3d": [
           {
            "line": {
             "colorbar": {
              "outlinewidth": 0,
              "ticks": ""
             }
            },
            "marker": {
             "colorbar": {
              "outlinewidth": 0,
              "ticks": ""
             }
            },
            "type": "scatter3d"
           }
          ],
          "scattercarpet": [
           {
            "marker": {
             "colorbar": {
              "outlinewidth": 0,
              "ticks": ""
             }
            },
            "type": "scattercarpet"
           }
          ],
          "scattergeo": [
           {
            "marker": {
             "colorbar": {
              "outlinewidth": 0,
              "ticks": ""
             }
            },
            "type": "scattergeo"
           }
          ],
          "scattergl": [
           {
            "marker": {
             "colorbar": {
              "outlinewidth": 0,
              "ticks": ""
             }
            },
            "type": "scattergl"
           }
          ],
          "scattermapbox": [
           {
            "marker": {
             "colorbar": {
              "outlinewidth": 0,
              "ticks": ""
             }
            },
            "type": "scattermapbox"
           }
          ],
          "scatterpolar": [
           {
            "marker": {
             "colorbar": {
              "outlinewidth": 0,
              "ticks": ""
             }
            },
            "type": "scatterpolar"
           }
          ],
          "scatterpolargl": [
           {
            "marker": {
             "colorbar": {
              "outlinewidth": 0,
              "ticks": ""
             }
            },
            "type": "scatterpolargl"
           }
          ],
          "scatterternary": [
           {
            "marker": {
             "colorbar": {
              "outlinewidth": 0,
              "ticks": ""
             }
            },
            "type": "scatterternary"
           }
          ],
          "surface": [
           {
            "colorbar": {
             "outlinewidth": 0,
             "ticks": ""
            },
            "colorscale": [
             [
              0,
              "#0d0887"
             ],
             [
              0.1111111111111111,
              "#46039f"
             ],
             [
              0.2222222222222222,
              "#7201a8"
             ],
             [
              0.3333333333333333,
              "#9c179e"
             ],
             [
              0.4444444444444444,
              "#bd3786"
             ],
             [
              0.5555555555555556,
              "#d8576b"
             ],
             [
              0.6666666666666666,
              "#ed7953"
             ],
             [
              0.7777777777777778,
              "#fb9f3a"
             ],
             [
              0.8888888888888888,
              "#fdca26"
             ],
             [
              1,
              "#f0f921"
             ]
            ],
            "type": "surface"
           }
          ],
          "table": [
           {
            "cells": {
             "fill": {
              "color": "#EBF0F8"
             },
             "line": {
              "color": "white"
             }
            },
            "header": {
             "fill": {
              "color": "#C8D4E3"
             },
             "line": {
              "color": "white"
             }
            },
            "type": "table"
           }
          ]
         },
         "layout": {
          "annotationdefaults": {
           "arrowcolor": "#2a3f5f",
           "arrowhead": 0,
           "arrowwidth": 1
          },
          "autotypenumbers": "strict",
          "coloraxis": {
           "colorbar": {
            "outlinewidth": 0,
            "ticks": ""
           }
          },
          "colorscale": {
           "diverging": [
            [
             0,
             "#8e0152"
            ],
            [
             0.1,
             "#c51b7d"
            ],
            [
             0.2,
             "#de77ae"
            ],
            [
             0.3,
             "#f1b6da"
            ],
            [
             0.4,
             "#fde0ef"
            ],
            [
             0.5,
             "#f7f7f7"
            ],
            [
             0.6,
             "#e6f5d0"
            ],
            [
             0.7,
             "#b8e186"
            ],
            [
             0.8,
             "#7fbc41"
            ],
            [
             0.9,
             "#4d9221"
            ],
            [
             1,
             "#276419"
            ]
           ],
           "sequential": [
            [
             0,
             "#0d0887"
            ],
            [
             0.1111111111111111,
             "#46039f"
            ],
            [
             0.2222222222222222,
             "#7201a8"
            ],
            [
             0.3333333333333333,
             "#9c179e"
            ],
            [
             0.4444444444444444,
             "#bd3786"
            ],
            [
             0.5555555555555556,
             "#d8576b"
            ],
            [
             0.6666666666666666,
             "#ed7953"
            ],
            [
             0.7777777777777778,
             "#fb9f3a"
            ],
            [
             0.8888888888888888,
             "#fdca26"
            ],
            [
             1,
             "#f0f921"
            ]
           ],
           "sequentialminus": [
            [
             0,
             "#0d0887"
            ],
            [
             0.1111111111111111,
             "#46039f"
            ],
            [
             0.2222222222222222,
             "#7201a8"
            ],
            [
             0.3333333333333333,
             "#9c179e"
            ],
            [
             0.4444444444444444,
             "#bd3786"
            ],
            [
             0.5555555555555556,
             "#d8576b"
            ],
            [
             0.6666666666666666,
             "#ed7953"
            ],
            [
             0.7777777777777778,
             "#fb9f3a"
            ],
            [
             0.8888888888888888,
             "#fdca26"
            ],
            [
             1,
             "#f0f921"
            ]
           ]
          },
          "colorway": [
           "#636efa",
           "#EF553B",
           "#00cc96",
           "#ab63fa",
           "#FFA15A",
           "#19d3f3",
           "#FF6692",
           "#B6E880",
           "#FF97FF",
           "#FECB52"
          ],
          "font": {
           "color": "#2a3f5f"
          },
          "geo": {
           "bgcolor": "white",
           "lakecolor": "white",
           "landcolor": "#E5ECF6",
           "showlakes": true,
           "showland": true,
           "subunitcolor": "white"
          },
          "hoverlabel": {
           "align": "left"
          },
          "hovermode": "closest",
          "mapbox": {
           "style": "light"
          },
          "paper_bgcolor": "white",
          "plot_bgcolor": "#E5ECF6",
          "polar": {
           "angularaxis": {
            "gridcolor": "white",
            "linecolor": "white",
            "ticks": ""
           },
           "bgcolor": "#E5ECF6",
           "radialaxis": {
            "gridcolor": "white",
            "linecolor": "white",
            "ticks": ""
           }
          },
          "scene": {
           "xaxis": {
            "backgroundcolor": "#E5ECF6",
            "gridcolor": "white",
            "gridwidth": 2,
            "linecolor": "white",
            "showbackground": true,
            "ticks": "",
            "zerolinecolor": "white"
           },
           "yaxis": {
            "backgroundcolor": "#E5ECF6",
            "gridcolor": "white",
            "gridwidth": 2,
            "linecolor": "white",
            "showbackground": true,
            "ticks": "",
            "zerolinecolor": "white"
           },
           "zaxis": {
            "backgroundcolor": "#E5ECF6",
            "gridcolor": "white",
            "gridwidth": 2,
            "linecolor": "white",
            "showbackground": true,
            "ticks": "",
            "zerolinecolor": "white"
           }
          },
          "shapedefaults": {
           "line": {
            "color": "#2a3f5f"
           }
          },
          "ternary": {
           "aaxis": {
            "gridcolor": "white",
            "linecolor": "white",
            "ticks": ""
           },
           "baxis": {
            "gridcolor": "white",
            "linecolor": "white",
            "ticks": ""
           },
           "bgcolor": "#E5ECF6",
           "caxis": {
            "gridcolor": "white",
            "linecolor": "white",
            "ticks": ""
           }
          },
          "title": {
           "x": 0.05
          },
          "xaxis": {
           "automargin": true,
           "gridcolor": "white",
           "linecolor": "white",
           "ticks": "",
           "title": {
            "standoff": 15
           },
           "zerolinecolor": "white",
           "zerolinewidth": 2
          },
          "yaxis": {
           "automargin": true,
           "gridcolor": "white",
           "linecolor": "white",
           "ticks": "",
           "title": {
            "standoff": 15
           },
           "zerolinecolor": "white",
           "zerolinewidth": 2
          }
         }
        },
        "title": {
         "text": "Population Pyramid in 2020 in USA"
        },
        "xaxis": {
         "autorange": true,
         "range": [
          -12559510.333333334,
          12897356.333333334
         ],
         "title": {
          "text": "Population"
         },
         "type": "linear"
        },
        "yaxis": {
         "autorange": true,
         "range": [
          -0.5,
          15.5
         ],
         "title": {
          "text": "Age Group"
         },
         "type": "category"
        }
       }
      },
      "image/png": "[encoded data removed]",
      "text/html": [
       "<div>                            <div id=\"86b3fb09-04ed-4ccf-9880-cdc53154ea9c\" class=\"plotly-graph-div\" style=\"height:525px; width:100%;\"></div>            <script type=\"text/javascript\">                require([\"plotly\"], function(Plotly) {                    window.PLOTLYENV=window.PLOTLYENV || {};                                    if (document.getElementById(\"86b3fb09-04ed-4ccf-9880-cdc53154ea9c\")) {                    Plotly.newPlot(                        \"86b3fb09-04ed-4ccf-9880-cdc53154ea9c\",                        [{\"marker\":{\"color\":\"green\"},\"name\":\"Male\",\"orientation\":\"h\",\"x\":[9852347,10415543,11134875,11075090,11019470,11624513,11559052,11181543,10435554,10280074,10473078,10752513,10175797,8649904,6418700,4226291],\"y\":[\"0-4\",\"5-9\",\"10-14\",\"15-19\",\"20-24\",\"25-29\",\"30-34\",\"35-39\",\"40-44\",\"45-49\",\"50-54\",\"55-59\",\"60-64\",\"65-69\",\"70-74\",\"75-79\"],\"type\":\"bar\"},{\"marker\":{\"color\":\"maroon\"},\"name\":\"Female\",\"orientation\":\"h\",\"x\":[-9417809,-9939364,-10607318,-10600168,-10598541,-11276010,-11286667,-10952946,-10377044,-10279207,-10548138,-11142190,-10724223,-9509650,-7454655,-5166253],\"y\":[\"0-4\",\"5-9\",\"10-14\",\"15-19\",\"20-24\",\"25-29\",\"30-34\",\"35-39\",\"40-44\",\"45-49\",\"50-54\",\"55-59\",\"60-64\",\"65-69\",\"70-74\",\"75-79\"],\"type\":\"bar\"}],                        {\"barmode\":\"overlay\",\"template\":{\"data\":{\"barpolar\":[{\"marker\":{\"line\":{\"color\":\"#E5ECF6\",\"width\":0.5},\"pattern\":{\"fillmode\":\"overlay\",\"size\":10,\"solidity\":0.2}},\"type\":\"barpolar\"}],\"bar\":[{\"error_x\":{\"color\":\"#2a3f5f\"},\"error_y\":{\"color\":\"#2a3f5f\"},\"marker\":{\"line\":{\"color\":\"#E5ECF6\",\"width\":0.5},\"pattern\":{\"fillmode\":\"overlay\",\"size\":10,\"solidity\":0.2}},\"type\":\"bar\"}],\"carpet\":[{\"aaxis\":{\"endlinecolor\":\"#2a3f5f\",\"gridcolor\":\"white\",\"linecolor\":\"white\",\"minorgridcolor\":\"white\",\"startlinecolor\":\"#2a3f5f\"},\"baxis\":{\"endlinecolor\":\"#2a3f5f\",\"gridcolor\":\"white\",\"linecolor\":\"white\",\"minorgridcolor\":\"white\",\"startlinecolor\":\"#2a3f5f\"},\"type\":\"carpet\"}],\"choropleth\":[{\"colorbar\":{\"outlinewidth\":0,\"ticks\":\"\"},\"type\":\"choropleth\"}],\"contourcarpet\":[{\"colorbar\":{\"outlinewidth\":0,\"ticks\":\"\"},\"type\":\"contourcarpet\"}],\"contour\":[{\"colorbar\":{\"outlinewidth\":0,\"ticks\":\"\"},\"colorscale\":[[0.0,\"#0d0887\"],[0.1111111111111111,\"#46039f\"],[0.2222222222222222,\"#7201a8\"],[0.3333333333333333,\"#9c179e\"],[0.4444444444444444,\"#bd3786\"],[0.5555555555555556,\"#d8576b\"],[0.6666666666666666,\"#ed7953\"],[0.7777777777777778,\"#fb9f3a\"],[0.8888888888888888,\"#fdca26\"],[1.0,\"#f0f921\"]],\"type\":\"contour\"}],\"heatmapgl\":[{\"colorbar\":{\"outlinewidth\":0,\"ticks\":\"\"},\"colorscale\":[[0.0,\"#0d0887\"],[0.1111111111111111,\"#46039f\"],[0.2222222222222222,\"#7201a8\"],[0.3333333333333333,\"#9c179e\"],[0.4444444444444444,\"#bd3786\"],[0.5555555555555556,\"#d8576b\"],[0.6666666666666666,\"#ed7953\"],[0.7777777777777778,\"#fb9f3a\"],[0.8888888888888888,\"#fdca26\"],[1.0,\"#f0f921\"]],\"type\":\"heatmapgl\"}],\"heatmap\":[{\"colorbar\":{\"outlinewidth\":0,\"ticks\":\"\"},\"colorscale\":[[0.0,\"#0d0887\"],[0.1111111111111111,\"#46039f\"],[0.2222222222222222,\"#7201a8\"],[0.3333333333333333,\"#9c179e\"],[0.4444444444444444,\"#bd3786\"],[0.5555555555555556,\"#d8576b\"],[0.6666666666666666,\"#ed7953\"],[0.7777777777777778,\"#fb9f3a\"],[0.8888888888888888,\"#fdca26\"],[1.0,\"#f0f921\"]],\"type\":\"heatmap\"}],\"histogram2dcontour\":[{\"colorbar\":{\"outlinewidth\":0,\"ticks\":\"\"},\"colorscale\":[[0.0,\"#0d0887\"],[0.1111111111111111,\"#46039f\"],[0.2222222222222222,\"#7201a8\"],[0.3333333333333333,\"#9c179e\"],[0.4444444444444444,\"#bd3786\"],[0.5555555555555556,\"#d8576b\"],[0.6666666666666666,\"#ed7953\"],[0.7777777777777778,\"#fb9f3a\"],[0.8888888888888888,\"#fdca26\"],[1.0,\"#f0f921\"]],\"type\":\"histogram2dcontour\"}],\"histogram2d\":[{\"colorbar\":{\"outlinewidth\":0,\"ticks\":\"\"},\"colorscale\":[[0.0,\"#0d0887\"],[0.1111111111111111,\"#46039f\"],[0.2222222222222222,\"#7201a8\"],[0.3333333333333333,\"#9c179e\"],[0.4444444444444444,\"#bd3786\"],[0.5555555555555556,\"#d8576b\"],[0.6666666666666666,\"#ed7953\"],[0.7777777777777778,\"#fb9f3a\"],[0.8888888888888888,\"#fdca26\"],[1.0,\"#f0f921\"]],\"type\":\"histogram2d\"}],\"histogram\":[{\"marker\":{\"pattern\":{\"fillmode\":\"overlay\",\"size\":10,\"solidity\":0.2}},\"type\":\"histogram\"}],\"mesh3d\":[{\"colorbar\":{\"outlinewidth\":0,\"ticks\":\"\"},\"type\":\"mesh3d\"}],\"parcoords\":[{\"line\":{\"colorbar\":{\"outlinewidth\":0,\"ticks\":\"\"}},\"type\":\"parcoords\"}],\"pie\":[{\"automargin\":true,\"type\":\"pie\"}],\"scatter3d\":[{\"line\":{\"colorbar\":{\"outlinewidth\":0,\"ticks\":\"\"}},\"marker\":{\"colorbar\":{\"outlinewidth\":0,\"ticks\":\"\"}},\"type\":\"scatter3d\"}],\"scattercarpet\":[{\"marker\":{\"colorbar\":{\"outlinewidth\":0,\"ticks\":\"\"}},\"type\":\"scattercarpet\"}],\"scattergeo\":[{\"marker\":{\"colorbar\":{\"outlinewidth\":0,\"ticks\":\"\"}},\"type\":\"scattergeo\"}],\"scattergl\":[{\"marker\":{\"colorbar\":{\"outlinewidth\":0,\"ticks\":\"\"}},\"type\":\"scattergl\"}],\"scattermapbox\":[{\"marker\":{\"colorbar\":{\"outlinewidth\":0,\"ticks\":\"\"}},\"type\":\"scattermapbox\"}],\"scatterpolargl\":[{\"marker\":{\"colorbar\":{\"outlinewidth\":0,\"ticks\":\"\"}},\"type\":\"scatterpolargl\"}],\"scatterpolar\":[{\"marker\":{\"colorbar\":{\"outlinewidth\":0,\"ticks\":\"\"}},\"type\":\"scatterpolar\"}],\"scatter\":[{\"fillpattern\":{\"fillmode\":\"overlay\",\"size\":10,\"solidity\":0.2},\"type\":\"scatter\"}],\"scatterternary\":[{\"marker\":{\"colorbar\":{\"outlinewidth\":0,\"ticks\":\"\"}},\"type\":\"scatterternary\"}],\"surface\":[{\"colorbar\":{\"outlinewidth\":0,\"ticks\":\"\"},\"colorscale\":[[0.0,\"#0d0887\"],[0.1111111111111111,\"#46039f\"],[0.2222222222222222,\"#7201a8\"],[0.3333333333333333,\"#9c179e\"],[0.4444444444444444,\"#bd3786\"],[0.5555555555555556,\"#d8576b\"],[0.6666666666666666,\"#ed7953\"],[0.7777777777777778,\"#fb9f3a\"],[0.8888888888888888,\"#fdca26\"],[1.0,\"#f0f921\"]],\"type\":\"surface\"}],\"table\":[{\"cells\":{\"fill\":{\"color\":\"#EBF0F8\"},\"line\":{\"color\":\"white\"}},\"header\":{\"fill\":{\"color\":\"#C8D4E3\"},\"line\":{\"color\":\"white\"}},\"type\":\"table\"}]},\"layout\":{\"annotationdefaults\":{\"arrowcolor\":\"#2a3f5f\",\"arrowhead\":0,\"arrowwidth\":1},\"autotypenumbers\":\"strict\",\"coloraxis\":{\"colorbar\":{\"outlinewidth\":0,\"ticks\":\"\"}},\"colorscale\":{\"diverging\":[[0,\"#8e0152\"],[0.1,\"#c51b7d\"],[0.2,\"#de77ae\"],[0.3,\"#f1b6da\"],[0.4,\"#fde0ef\"],[0.5,\"#f7f7f7\"],[0.6,\"#e6f5d0\"],[0.7,\"#b8e186\"],[0.8,\"#7fbc41\"],[0.9,\"#4d9221\"],[1,\"#276419\"]],\"sequential\":[[0.0,\"#0d0887\"],[0.1111111111111111,\"#46039f\"],[0.2222222222222222,\"#7201a8\"],[0.3333333333333333,\"#9c179e\"],[0.4444444444444444,\"#bd3786\"],[0.5555555555555556,\"#d8576b\"],[0.6666666666666666,\"#ed7953\"],[0.7777777777777778,\"#fb9f3a\"],[0.8888888888888888,\"#fdca26\"],[1.0,\"#f0f921\"]],\"sequentialminus\":[[0.0,\"#0d0887\"],[0.1111111111111111,\"#46039f\"],[0.2222222222222222,\"#7201a8\"],[0.3333333333333333,\"#9c179e\"],[0.4444444444444444,\"#bd3786\"],[0.5555555555555556,\"#d8576b\"],[0.6666666666666666,\"#ed7953\"],[0.7777777777777778,\"#fb9f3a\"],[0.8888888888888888,\"#fdca26\"],[1.0,\"#f0f921\"]]},\"colorway\":[\"#636efa\",\"#EF553B\",\"#00cc96\",\"#ab63fa\",\"#FFA15A\",\"#19d3f3\",\"#FF6692\",\"#B6E880\",\"#FF97FF\",\"#FECB52\"],\"font\":{\"color\":\"#2a3f5f\"},\"geo\":{\"bgcolor\":\"white\",\"lakecolor\":\"white\",\"landcolor\":\"#E5ECF6\",\"showlakes\":true,\"showland\":true,\"subunitcolor\":\"white\"},\"hoverlabel\":{\"align\":\"left\"},\"hovermode\":\"closest\",\"mapbox\":{\"style\":\"light\"},\"paper_bgcolor\":\"white\",\"plot_bgcolor\":\"#E5ECF6\",\"polar\":{\"angularaxis\":{\"gridcolor\":\"white\",\"linecolor\":\"white\",\"ticks\":\"\"},\"bgcolor\":\"#E5ECF6\",\"radialaxis\":{\"gridcolor\":\"white\",\"linecolor\":\"white\",\"ticks\":\"\"}},\"scene\":{\"xaxis\":{\"backgroundcolor\":\"#E5ECF6\",\"gridcolor\":\"white\",\"gridwidth\":2,\"linecolor\":\"white\",\"showbackground\":true,\"ticks\":\"\",\"zerolinecolor\":\"white\"},\"yaxis\":{\"backgroundcolor\":\"#E5ECF6\",\"gridcolor\":\"white\",\"gridwidth\":2,\"linecolor\":\"white\",\"showbackground\":true,\"ticks\":\"\",\"zerolinecolor\":\"white\"},\"zaxis\":{\"backgroundcolor\":\"#E5ECF6\",\"gridcolor\":\"white\",\"gridwidth\":2,\"linecolor\":\"white\",\"showbackground\":true,\"ticks\":\"\",\"zerolinecolor\":\"white\"}},\"shapedefaults\":{\"line\":{\"color\":\"#2a3f5f\"}},\"ternary\":{\"aaxis\":{\"gridcolor\":\"white\",\"linecolor\":\"white\",\"ticks\":\"\"},\"baxis\":{\"gridcolor\":\"white\",\"linecolor\":\"white\",\"ticks\":\"\"},\"bgcolor\":\"#E5ECF6\",\"caxis\":{\"gridcolor\":\"white\",\"linecolor\":\"white\",\"ticks\":\"\"}},\"title\":{\"x\":0.05},\"xaxis\":{\"automargin\":true,\"gridcolor\":\"white\",\"linecolor\":\"white\",\"ticks\":\"\",\"title\":{\"standoff\":15},\"zerolinecolor\":\"white\",\"zerolinewidth\":2},\"yaxis\":{\"automargin\":true,\"gridcolor\":\"white\",\"linecolor\":\"white\",\"ticks\":\"\",\"title\":{\"standoff\":15},\"zerolinecolor\":\"white\",\"zerolinewidth\":2}}},\"title\":{\"text\":\"Population Pyramid in 2020 in USA\"},\"xaxis\":{\"title\":{\"text\":\"Population\"}},\"yaxis\":{\"title\":{\"text\":\"Age Group\"}}},                        {\"responsive\": true}                    ).then(function(){\n",
       "                            \n",
       "var gd = document.getElementById('86b3fb09-04ed-4ccf-9880-cdc53154ea9c');\n",
       "var x = new MutationObserver(function (mutations, observer) {{\n",
       "        var display = window.getComputedStyle(gd).display;\n",
       "        if (!display || display === 'none') {{\n",
       "            console.log([gd, 'removed!']);\n",
       "            Plotly.purge(gd);\n",
       "            observer.disconnect();\n",
       "        }}\n",
       "}});\n",
       "\n",
       "// Listen for the removal of the full notebook cells\n",
       "var notebookContainer = gd.closest('#notebook-container');\n",
       "if (notebookContainer) {{\n",
       "    x.observe(notebookContainer, {childList: true});\n",
       "}}\n",
       "\n",
       "// Listen for the clearing of the current output cell\n",
       "var outputEl = gd.closest('.output');\n",
       "if (outputEl) {{\n",
       "    x.observe(outputEl, {childList: true});\n",
       "}}\n",
       "\n",
       "                        })                };                });            </script>        </div>"
      ]
     },
     "metadata": {},
     "output_type": "display_data"
    }
   ],
   "source": [
    "year_input = input(\"Please enter the year: \")\n",
    "country_input = input(\"Please enter the country name: \")\n",
    "male_population = []\n",
    "female_population = []\n",
    "age_groups = ['0-4', '5-9', '10-14', '15-19', '20-24', '25-29', '30-34', '35-39', '40-44', '45-49', '50-54', '55-59', '60-64', '65-69', '70-74', '75-79']\n",
    "age_range = ['0004', '0509', '1014', '1519', '2024', '2529', '3034', '3539', '4044', '4549', '5054', '5559', '6064', '6569', '7074', '7579']\n",
    "\n",
    "# Create Male List\n",
    "for age_range_index in age_range:\n",
    "    range_3 = len(wbdata.get_data(\"SP.POP.\" + str(age_range_index) + \".MA\", country = [str(country_input)]))\n",
    "    for index in range(0, range_3):\n",
    "        if wbdata.get_data(\"SP.POP.\" + str(age_range_index) + \".MA\", country = [str(country_input)])[index][\"date\"] == str(year_input):\n",
    "            male_population.append(wbdata.get_data(\"SP.POP.\" + str(age_range_index) + \".MA\", country = [str(country_input)])[index][\"value\"])\n",
    "            break\n",
    "\n",
    "# Create Female List\n",
    "for age_range_index in age_range:\n",
    "    range_3 = len(wbdata.get_data(\"SP.POP.\" + str(age_range_index) + \".FE\", country = [str(country_input)]))\n",
    "    for index in range(0, range_3):\n",
    "        if wbdata.get_data(\"SP.POP.\" + str(age_range_index) + \".FE\", country = [str(country_input)])[index][\"date\"] == str(year_input):\n",
    "            female_population.append(wbdata.get_data(\"SP.POP.\" + str(age_range_index) + \".FE\", country = [str(country_input)])[index][\"value\"])\n",
    "            break\n",
    "\n",
    "trace_male = go.Bar(\n",
    "    x=male_population,\n",
    "    y=age_groups,\n",
    "    orientation='h',\n",
    "    name='Male',\n",
    "    marker=dict(color='green')\n",
    ")\n",
    "\n",
    "\n",
    "trace_female = go.Bar(\n",
    "    x=[-x for x in female_population],\n",
    "    y=age_groups,\n",
    "    orientation='h',\n",
    "    name='Female',\n",
    "    marker=dict(color='maroon')\n",
    ")\n",
    "\n",
    "\n",
    "layout = go.Layout(\n",
    "    barmode='overlay',\n",
    "    title='Population Pyramid in ' + str(year_input) + \" in \" + str(country_input),\n",
    "    xaxis=dict(title='Population'),\n",
    "    yaxis=dict(title='Age Group')\n",
    ")\n",
    "\n",
    "\n",
    "fig = go.Figure(data=[trace_male, trace_female], layout=layout)\n",
    "iplot(fig)\n"
   ]
  },
  {
   "cell_type": "markdown",
   "id": "70bb40a7",
   "metadata": {},
   "source": [
    "### **[C] Animated Population Pyramids:**"
   ]
  },
  {
   "cell_type": "code",
   "execution_count": 31,
   "id": "8eda5ce5",
   "metadata": {},
   "outputs": [
    {
     "name": "stdin",
     "output_type": "stream",
     "text": [
      "Please enter beginning year (should be divisible by 5):  2015\n",
      "Please enter ending year (should be divisible by 5):  2020\n",
      "Please enter the country name:  USA\n"
     ]
    },
    {
     "data": {
      "application/vnd.plotly.v1+json": {
       "config": {
        "linkText": "Export to plot.ly",
        "plotlyServerURL": "https://plot.ly",
        "showLink": false
       },
       "data": [
        {
         "name": "Male 2020",
         "orientation": "h",
         "type": "bar",
         "x": [
          9852347,
          10415543,
          11134875,
          11075090,
          11019470,
          11624513,
          11559052,
          11181543,
          10435554,
          10280074,
          10473078,
          10752513,
          10175797,
          8649904,
          6418700,
          4226291
         ],
         "y": [
          "0-4",
          "5-9",
          "10-14",
          "15-19",
          "20-24",
          "25-29",
          "30-34",
          "35-39",
          "40-44",
          "45-49",
          "50-54",
          "55-59",
          "60-64",
          "65-69",
          "70-74",
          "75-79"
         ]
        },
        {
         "name": "Female 2020",
         "orientation": "h",
         "type": "bar",
         "x": [
          -9417809,
          -9939364,
          -10607318,
          -10600168,
          -10598541,
          -11276010,
          -11286667,
          -10952946,
          -10377044,
          -10279207,
          -10548138,
          -11142190,
          -10724223,
          -9509650,
          -7454655,
          -5166253
         ],
         "y": [
          "0-4",
          "5-9",
          "10-14",
          "15-19",
          "20-24",
          "25-29",
          "30-34",
          "35-39",
          "40-44",
          "45-49",
          "50-54",
          "55-59",
          "60-64",
          "65-69",
          "70-74",
          "75-79"
         ]
        }
       ],
       "layout": {
        "autosize": true,
        "barmode": "overlay",
        "template": {
         "data": {
          "bar": [
           {
            "error_x": {
             "color": "#2a3f5f"
            },
            "error_y": {
             "color": "#2a3f5f"
            },
            "marker": {
             "line": {
              "color": "#E5ECF6",
              "width": 0.5
             },
             "pattern": {
              "fillmode": "overlay",
              "size": 10,
              "solidity": 0.2
             }
            },
            "type": "bar"
           }
          ],
          "barpolar": [
           {
            "marker": {
             "line": {
              "color": "#E5ECF6",
              "width": 0.5
             },
             "pattern": {
              "fillmode": "overlay",
              "size": 10,
              "solidity": 0.2
             }
            },
            "type": "barpolar"
           }
          ],
          "carpet": [
           {
            "aaxis": {
             "endlinecolor": "#2a3f5f",
             "gridcolor": "white",
             "linecolor": "white",
             "minorgridcolor": "white",
             "startlinecolor": "#2a3f5f"
            },
            "baxis": {
             "endlinecolor": "#2a3f5f",
             "gridcolor": "white",
             "linecolor": "white",
             "minorgridcolor": "white",
             "startlinecolor": "#2a3f5f"
            },
            "type": "carpet"
           }
          ],
          "choropleth": [
           {
            "colorbar": {
             "outlinewidth": 0,
             "ticks": ""
            },
            "type": "choropleth"
           }
          ],
          "contour": [
           {
            "colorbar": {
             "outlinewidth": 0,
             "ticks": ""
            },
            "colorscale": [
             [
              0,
              "#0d0887"
             ],
             [
              0.1111111111111111,
              "#46039f"
             ],
             [
              0.2222222222222222,
              "#7201a8"
             ],
             [
              0.3333333333333333,
              "#9c179e"
             ],
             [
              0.4444444444444444,
              "#bd3786"
             ],
             [
              0.5555555555555556,
              "#d8576b"
             ],
             [
              0.6666666666666666,
              "#ed7953"
             ],
             [
              0.7777777777777778,
              "#fb9f3a"
             ],
             [
              0.8888888888888888,
              "#fdca26"
             ],
             [
              1,
              "#f0f921"
             ]
            ],
            "type": "contour"
           }
          ],
          "contourcarpet": [
           {
            "colorbar": {
             "outlinewidth": 0,
             "ticks": ""
            },
            "type": "contourcarpet"
           }
          ],
          "heatmap": [
           {
            "colorbar": {
             "outlinewidth": 0,
             "ticks": ""
            },
            "colorscale": [
             [
              0,
              "#0d0887"
             ],
             [
              0.1111111111111111,
              "#46039f"
             ],
             [
              0.2222222222222222,
              "#7201a8"
             ],
             [
              0.3333333333333333,
              "#9c179e"
             ],
             [
              0.4444444444444444,
              "#bd3786"
             ],
             [
              0.5555555555555556,
              "#d8576b"
             ],
             [
              0.6666666666666666,
              "#ed7953"
             ],
             [
              0.7777777777777778,
              "#fb9f3a"
             ],
             [
              0.8888888888888888,
              "#fdca26"
             ],
             [
              1,
              "#f0f921"
             ]
            ],
            "type": "heatmap"
           }
          ],
          "heatmapgl": [
           {
            "colorbar": {
             "outlinewidth": 0,
             "ticks": ""
            },
            "colorscale": [
             [
              0,
              "#0d0887"
             ],
             [
              0.1111111111111111,
              "#46039f"
             ],
             [
              0.2222222222222222,
              "#7201a8"
             ],
             [
              0.3333333333333333,
              "#9c179e"
             ],
             [
              0.4444444444444444,
              "#bd3786"
             ],
             [
              0.5555555555555556,
              "#d8576b"
             ],
             [
              0.6666666666666666,
              "#ed7953"
             ],
             [
              0.7777777777777778,
              "#fb9f3a"
             ],
             [
              0.8888888888888888,
              "#fdca26"
             ],
             [
              1,
              "#f0f921"
             ]
            ],
            "type": "heatmapgl"
           }
          ],
          "histogram": [
           {
            "marker": {
             "pattern": {
              "fillmode": "overlay",
              "size": 10,
              "solidity": 0.2
             }
            },
            "type": "histogram"
           }
          ],
          "histogram2d": [
           {
            "colorbar": {
             "outlinewidth": 0,
             "ticks": ""
            },
            "colorscale": [
             [
              0,
              "#0d0887"
             ],
             [
              0.1111111111111111,
              "#46039f"
             ],
             [
              0.2222222222222222,
              "#7201a8"
             ],
             [
              0.3333333333333333,
              "#9c179e"
             ],
             [
              0.4444444444444444,
              "#bd3786"
             ],
             [
              0.5555555555555556,
              "#d8576b"
             ],
             [
              0.6666666666666666,
              "#ed7953"
             ],
             [
              0.7777777777777778,
              "#fb9f3a"
             ],
             [
              0.8888888888888888,
              "#fdca26"
             ],
             [
              1,
              "#f0f921"
             ]
            ],
            "type": "histogram2d"
           }
          ],
          "histogram2dcontour": [
           {
            "colorbar": {
             "outlinewidth": 0,
             "ticks": ""
            },
            "colorscale": [
             [
              0,
              "#0d0887"
             ],
             [
              0.1111111111111111,
              "#46039f"
             ],
             [
              0.2222222222222222,
              "#7201a8"
             ],
             [
              0.3333333333333333,
              "#9c179e"
             ],
             [
              0.4444444444444444,
              "#bd3786"
             ],
             [
              0.5555555555555556,
              "#d8576b"
             ],
             [
              0.6666666666666666,
              "#ed7953"
             ],
             [
              0.7777777777777778,
              "#fb9f3a"
             ],
             [
              0.8888888888888888,
              "#fdca26"
             ],
             [
              1,
              "#f0f921"
             ]
            ],
            "type": "histogram2dcontour"
           }
          ],
          "mesh3d": [
           {
            "colorbar": {
             "outlinewidth": 0,
             "ticks": ""
            },
            "type": "mesh3d"
           }
          ],
          "parcoords": [
           {
            "line": {
             "colorbar": {
              "outlinewidth": 0,
              "ticks": ""
             }
            },
            "type": "parcoords"
           }
          ],
          "pie": [
           {
            "automargin": true,
            "type": "pie"
           }
          ],
          "scatter": [
           {
            "fillpattern": {
             "fillmode": "overlay",
             "size": 10,
             "solidity": 0.2
            },
            "type": "scatter"
           }
          ],
          "scatter3d": [
           {
            "line": {
             "colorbar": {
              "outlinewidth": 0,
              "ticks": ""
             }
            },
            "marker": {
             "colorbar": {
              "outlinewidth": 0,
              "ticks": ""
             }
            },
            "type": "scatter3d"
           }
          ],
          "scattercarpet": [
           {
            "marker": {
             "colorbar": {
              "outlinewidth": 0,
              "ticks": ""
             }
            },
            "type": "scattercarpet"
           }
          ],
          "scattergeo": [
           {
            "marker": {
             "colorbar": {
              "outlinewidth": 0,
              "ticks": ""
             }
            },
            "type": "scattergeo"
           }
          ],
          "scattergl": [
           {
            "marker": {
             "colorbar": {
              "outlinewidth": 0,
              "ticks": ""
             }
            },
            "type": "scattergl"
           }
          ],
          "scattermapbox": [
           {
            "marker": {
             "colorbar": {
              "outlinewidth": 0,
              "ticks": ""
             }
            },
            "type": "scattermapbox"
           }
          ],
          "scatterpolar": [
           {
            "marker": {
             "colorbar": {
              "outlinewidth": 0,
              "ticks": ""
             }
            },
            "type": "scatterpolar"
           }
          ],
          "scatterpolargl": [
           {
            "marker": {
             "colorbar": {
              "outlinewidth": 0,
              "ticks": ""
             }
            },
            "type": "scatterpolargl"
           }
          ],
          "scatterternary": [
           {
            "marker": {
             "colorbar": {
              "outlinewidth": 0,
              "ticks": ""
             }
            },
            "type": "scatterternary"
           }
          ],
          "surface": [
           {
            "colorbar": {
             "outlinewidth": 0,
             "ticks": ""
            },
            "colorscale": [
             [
              0,
              "#0d0887"
             ],
             [
              0.1111111111111111,
              "#46039f"
             ],
             [
              0.2222222222222222,
              "#7201a8"
             ],
             [
              0.3333333333333333,
              "#9c179e"
             ],
             [
              0.4444444444444444,
              "#bd3786"
             ],
             [
              0.5555555555555556,
              "#d8576b"
             ],
             [
              0.6666666666666666,
              "#ed7953"
             ],
             [
              0.7777777777777778,
              "#fb9f3a"
             ],
             [
              0.8888888888888888,
              "#fdca26"
             ],
             [
              1,
              "#f0f921"
             ]
            ],
            "type": "surface"
           }
          ],
          "table": [
           {
            "cells": {
             "fill": {
              "color": "#EBF0F8"
             },
             "line": {
              "color": "white"
             }
            },
            "header": {
             "fill": {
              "color": "#C8D4E3"
             },
             "line": {
              "color": "white"
             }
            },
            "type": "table"
           }
          ]
         },
         "layout": {
          "annotationdefaults": {
           "arrowcolor": "#2a3f5f",
           "arrowhead": 0,
           "arrowwidth": 1
          },
          "autotypenumbers": "strict",
          "coloraxis": {
           "colorbar": {
            "outlinewidth": 0,
            "ticks": ""
           }
          },
          "colorscale": {
           "diverging": [
            [
             0,
             "#8e0152"
            ],
            [
             0.1,
             "#c51b7d"
            ],
            [
             0.2,
             "#de77ae"
            ],
            [
             0.3,
             "#f1b6da"
            ],
            [
             0.4,
             "#fde0ef"
            ],
            [
             0.5,
             "#f7f7f7"
            ],
            [
             0.6,
             "#e6f5d0"
            ],
            [
             0.7,
             "#b8e186"
            ],
            [
             0.8,
             "#7fbc41"
            ],
            [
             0.9,
             "#4d9221"
            ],
            [
             1,
             "#276419"
            ]
           ],
           "sequential": [
            [
             0,
             "#0d0887"
            ],
            [
             0.1111111111111111,
             "#46039f"
            ],
            [
             0.2222222222222222,
             "#7201a8"
            ],
            [
             0.3333333333333333,
             "#9c179e"
            ],
            [
             0.4444444444444444,
             "#bd3786"
            ],
            [
             0.5555555555555556,
             "#d8576b"
            ],
            [
             0.6666666666666666,
             "#ed7953"
            ],
            [
             0.7777777777777778,
             "#fb9f3a"
            ],
            [
             0.8888888888888888,
             "#fdca26"
            ],
            [
             1,
             "#f0f921"
            ]
           ],
           "sequentialminus": [
            [
             0,
             "#0d0887"
            ],
            [
             0.1111111111111111,
             "#46039f"
            ],
            [
             0.2222222222222222,
             "#7201a8"
            ],
            [
             0.3333333333333333,
             "#9c179e"
            ],
            [
             0.4444444444444444,
             "#bd3786"
            ],
            [
             0.5555555555555556,
             "#d8576b"
            ],
            [
             0.6666666666666666,
             "#ed7953"
            ],
            [
             0.7777777777777778,
             "#fb9f3a"
            ],
            [
             0.8888888888888888,
             "#fdca26"
            ],
            [
             1,
             "#f0f921"
            ]
           ]
          },
          "colorway": [
           "#636efa",
           "#EF553B",
           "#00cc96",
           "#ab63fa",
           "#FFA15A",
           "#19d3f3",
           "#FF6692",
           "#B6E880",
           "#FF97FF",
           "#FECB52"
          ],
          "font": {
           "color": "#2a3f5f"
          },
          "geo": {
           "bgcolor": "white",
           "lakecolor": "white",
           "landcolor": "#E5ECF6",
           "showlakes": true,
           "showland": true,
           "subunitcolor": "white"
          },
          "hoverlabel": {
           "align": "left"
          },
          "hovermode": "closest",
          "mapbox": {
           "style": "light"
          },
          "paper_bgcolor": "white",
          "plot_bgcolor": "#E5ECF6",
          "polar": {
           "angularaxis": {
            "gridcolor": "white",
            "linecolor": "white",
            "ticks": ""
           },
           "bgcolor": "#E5ECF6",
           "radialaxis": {
            "gridcolor": "white",
            "linecolor": "white",
            "ticks": ""
           }
          },
          "scene": {
           "xaxis": {
            "backgroundcolor": "#E5ECF6",
            "gridcolor": "white",
            "gridwidth": 2,
            "linecolor": "white",
            "showbackground": true,
            "ticks": "",
            "zerolinecolor": "white"
           },
           "yaxis": {
            "backgroundcolor": "#E5ECF6",
            "gridcolor": "white",
            "gridwidth": 2,
            "linecolor": "white",
            "showbackground": true,
            "ticks": "",
            "zerolinecolor": "white"
           },
           "zaxis": {
            "backgroundcolor": "#E5ECF6",
            "gridcolor": "white",
            "gridwidth": 2,
            "linecolor": "white",
            "showbackground": true,
            "ticks": "",
            "zerolinecolor": "white"
           }
          },
          "shapedefaults": {
           "line": {
            "color": "#2a3f5f"
           }
          },
          "ternary": {
           "aaxis": {
            "gridcolor": "white",
            "linecolor": "white",
            "ticks": ""
           },
           "baxis": {
            "gridcolor": "white",
            "linecolor": "white",
            "ticks": ""
           },
           "bgcolor": "#E5ECF6",
           "caxis": {
            "gridcolor": "white",
            "linecolor": "white",
            "ticks": ""
           }
          },
          "title": {
           "x": 0.05
          },
          "xaxis": {
           "automargin": true,
           "gridcolor": "white",
           "linecolor": "white",
           "ticks": "",
           "title": {
            "standoff": 15
           },
           "zerolinecolor": "white",
           "zerolinewidth": 2
          },
          "yaxis": {
           "automargin": true,
           "gridcolor": "white",
           "linecolor": "white",
           "ticks": "",
           "title": {
            "standoff": 15
           },
           "zerolinecolor": "white",
           "zerolinewidth": 2
          }
         }
        },
        "title": {
         "text": "Population Pyramid from 2015 to 2020 in USA"
        },
        "xaxis": {
         "autorange": true,
         "range": [
          -12559510.333333334,
          12897356.333333334
         ],
         "title": {
          "text": "Population"
         },
         "type": "linear"
        },
        "yaxis": {
         "autorange": true,
         "range": [
          -0.5,
          15.5
         ],
         "title": {
          "text": "Age Group"
         },
         "type": "category"
        }
       }
      },
      "image/png": "[encoded data removed]",
      "text/html": [
       "<div>                            <div id=\"a6fe99f5-d837-45fc-8966-4ddc995efde5\" class=\"plotly-graph-div\" style=\"height:525px; width:100%;\"></div>            <script type=\"text/javascript\">                require([\"plotly\"], function(Plotly) {                    window.PLOTLYENV=window.PLOTLYENV || {};                                    if (document.getElementById(\"a6fe99f5-d837-45fc-8966-4ddc995efde5\")) {                    Plotly.newPlot(                        \"a6fe99f5-d837-45fc-8966-4ddc995efde5\",                        [{\"name\":\"Male 2020\",\"orientation\":\"h\",\"x\":[9852347,10415543,11134875,11075090,11019470,11624513,11559052,11181543,10435554,10280074,10473078,10752513,10175797,8649904,6418700,4226291],\"y\":[\"0-4\",\"5-9\",\"10-14\",\"15-19\",\"20-24\",\"25-29\",\"30-34\",\"35-39\",\"40-44\",\"45-49\",\"50-54\",\"55-59\",\"60-64\",\"65-69\",\"70-74\",\"75-79\"],\"type\":\"bar\"},{\"name\":\"Female 2020\",\"orientation\":\"h\",\"x\":[-9417809,-9939364,-10607318,-10600168,-10598541,-11276010,-11286667,-10952946,-10377044,-10279207,-10548138,-11142190,-10724223,-9509650,-7454655,-5166253],\"y\":[\"0-4\",\"5-9\",\"10-14\",\"15-19\",\"20-24\",\"25-29\",\"30-34\",\"35-39\",\"40-44\",\"45-49\",\"50-54\",\"55-59\",\"60-64\",\"65-69\",\"70-74\",\"75-79\"],\"type\":\"bar\"}],                        {\"barmode\":\"overlay\",\"template\":{\"data\":{\"barpolar\":[{\"marker\":{\"line\":{\"color\":\"#E5ECF6\",\"width\":0.5},\"pattern\":{\"fillmode\":\"overlay\",\"size\":10,\"solidity\":0.2}},\"type\":\"barpolar\"}],\"bar\":[{\"error_x\":{\"color\":\"#2a3f5f\"},\"error_y\":{\"color\":\"#2a3f5f\"},\"marker\":{\"line\":{\"color\":\"#E5ECF6\",\"width\":0.5},\"pattern\":{\"fillmode\":\"overlay\",\"size\":10,\"solidity\":0.2}},\"type\":\"bar\"}],\"carpet\":[{\"aaxis\":{\"endlinecolor\":\"#2a3f5f\",\"gridcolor\":\"white\",\"linecolor\":\"white\",\"minorgridcolor\":\"white\",\"startlinecolor\":\"#2a3f5f\"},\"baxis\":{\"endlinecolor\":\"#2a3f5f\",\"gridcolor\":\"white\",\"linecolor\":\"white\",\"minorgridcolor\":\"white\",\"startlinecolor\":\"#2a3f5f\"},\"type\":\"carpet\"}],\"choropleth\":[{\"colorbar\":{\"outlinewidth\":0,\"ticks\":\"\"},\"type\":\"choropleth\"}],\"contourcarpet\":[{\"colorbar\":{\"outlinewidth\":0,\"ticks\":\"\"},\"type\":\"contourcarpet\"}],\"contour\":[{\"colorbar\":{\"outlinewidth\":0,\"ticks\":\"\"},\"colorscale\":[[0.0,\"#0d0887\"],[0.1111111111111111,\"#46039f\"],[0.2222222222222222,\"#7201a8\"],[0.3333333333333333,\"#9c179e\"],[0.4444444444444444,\"#bd3786\"],[0.5555555555555556,\"#d8576b\"],[0.6666666666666666,\"#ed7953\"],[0.7777777777777778,\"#fb9f3a\"],[0.8888888888888888,\"#fdca26\"],[1.0,\"#f0f921\"]],\"type\":\"contour\"}],\"heatmapgl\":[{\"colorbar\":{\"outlinewidth\":0,\"ticks\":\"\"},\"colorscale\":[[0.0,\"#0d0887\"],[0.1111111111111111,\"#46039f\"],[0.2222222222222222,\"#7201a8\"],[0.3333333333333333,\"#9c179e\"],[0.4444444444444444,\"#bd3786\"],[0.5555555555555556,\"#d8576b\"],[0.6666666666666666,\"#ed7953\"],[0.7777777777777778,\"#fb9f3a\"],[0.8888888888888888,\"#fdca26\"],[1.0,\"#f0f921\"]],\"type\":\"heatmapgl\"}],\"heatmap\":[{\"colorbar\":{\"outlinewidth\":0,\"ticks\":\"\"},\"colorscale\":[[0.0,\"#0d0887\"],[0.1111111111111111,\"#46039f\"],[0.2222222222222222,\"#7201a8\"],[0.3333333333333333,\"#9c179e\"],[0.4444444444444444,\"#bd3786\"],[0.5555555555555556,\"#d8576b\"],[0.6666666666666666,\"#ed7953\"],[0.7777777777777778,\"#fb9f3a\"],[0.8888888888888888,\"#fdca26\"],[1.0,\"#f0f921\"]],\"type\":\"heatmap\"}],\"histogram2dcontour\":[{\"colorbar\":{\"outlinewidth\":0,\"ticks\":\"\"},\"colorscale\":[[0.0,\"#0d0887\"],[0.1111111111111111,\"#46039f\"],[0.2222222222222222,\"#7201a8\"],[0.3333333333333333,\"#9c179e\"],[0.4444444444444444,\"#bd3786\"],[0.5555555555555556,\"#d8576b\"],[0.6666666666666666,\"#ed7953\"],[0.7777777777777778,\"#fb9f3a\"],[0.8888888888888888,\"#fdca26\"],[1.0,\"#f0f921\"]],\"type\":\"histogram2dcontour\"}],\"histogram2d\":[{\"colorbar\":{\"outlinewidth\":0,\"ticks\":\"\"},\"colorscale\":[[0.0,\"#0d0887\"],[0.1111111111111111,\"#46039f\"],[0.2222222222222222,\"#7201a8\"],[0.3333333333333333,\"#9c179e\"],[0.4444444444444444,\"#bd3786\"],[0.5555555555555556,\"#d8576b\"],[0.6666666666666666,\"#ed7953\"],[0.7777777777777778,\"#fb9f3a\"],[0.8888888888888888,\"#fdca26\"],[1.0,\"#f0f921\"]],\"type\":\"histogram2d\"}],\"histogram\":[{\"marker\":{\"pattern\":{\"fillmode\":\"overlay\",\"size\":10,\"solidity\":0.2}},\"type\":\"histogram\"}],\"mesh3d\":[{\"colorbar\":{\"outlinewidth\":0,\"ticks\":\"\"},\"type\":\"mesh3d\"}],\"parcoords\":[{\"line\":{\"colorbar\":{\"outlinewidth\":0,\"ticks\":\"\"}},\"type\":\"parcoords\"}],\"pie\":[{\"automargin\":true,\"type\":\"pie\"}],\"scatter3d\":[{\"line\":{\"colorbar\":{\"outlinewidth\":0,\"ticks\":\"\"}},\"marker\":{\"colorbar\":{\"outlinewidth\":0,\"ticks\":\"\"}},\"type\":\"scatter3d\"}],\"scattercarpet\":[{\"marker\":{\"colorbar\":{\"outlinewidth\":0,\"ticks\":\"\"}},\"type\":\"scattercarpet\"}],\"scattergeo\":[{\"marker\":{\"colorbar\":{\"outlinewidth\":0,\"ticks\":\"\"}},\"type\":\"scattergeo\"}],\"scattergl\":[{\"marker\":{\"colorbar\":{\"outlinewidth\":0,\"ticks\":\"\"}},\"type\":\"scattergl\"}],\"scattermapbox\":[{\"marker\":{\"colorbar\":{\"outlinewidth\":0,\"ticks\":\"\"}},\"type\":\"scattermapbox\"}],\"scatterpolargl\":[{\"marker\":{\"colorbar\":{\"outlinewidth\":0,\"ticks\":\"\"}},\"type\":\"scatterpolargl\"}],\"scatterpolar\":[{\"marker\":{\"colorbar\":{\"outlinewidth\":0,\"ticks\":\"\"}},\"type\":\"scatterpolar\"}],\"scatter\":[{\"fillpattern\":{\"fillmode\":\"overlay\",\"size\":10,\"solidity\":0.2},\"type\":\"scatter\"}],\"scatterternary\":[{\"marker\":{\"colorbar\":{\"outlinewidth\":0,\"ticks\":\"\"}},\"type\":\"scatterternary\"}],\"surface\":[{\"colorbar\":{\"outlinewidth\":0,\"ticks\":\"\"},\"colorscale\":[[0.0,\"#0d0887\"],[0.1111111111111111,\"#46039f\"],[0.2222222222222222,\"#7201a8\"],[0.3333333333333333,\"#9c179e\"],[0.4444444444444444,\"#bd3786\"],[0.5555555555555556,\"#d8576b\"],[0.6666666666666666,\"#ed7953\"],[0.7777777777777778,\"#fb9f3a\"],[0.8888888888888888,\"#fdca26\"],[1.0,\"#f0f921\"]],\"type\":\"surface\"}],\"table\":[{\"cells\":{\"fill\":{\"color\":\"#EBF0F8\"},\"line\":{\"color\":\"white\"}},\"header\":{\"fill\":{\"color\":\"#C8D4E3\"},\"line\":{\"color\":\"white\"}},\"type\":\"table\"}]},\"layout\":{\"annotationdefaults\":{\"arrowcolor\":\"#2a3f5f\",\"arrowhead\":0,\"arrowwidth\":1},\"autotypenumbers\":\"strict\",\"coloraxis\":{\"colorbar\":{\"outlinewidth\":0,\"ticks\":\"\"}},\"colorscale\":{\"diverging\":[[0,\"#8e0152\"],[0.1,\"#c51b7d\"],[0.2,\"#de77ae\"],[0.3,\"#f1b6da\"],[0.4,\"#fde0ef\"],[0.5,\"#f7f7f7\"],[0.6,\"#e6f5d0\"],[0.7,\"#b8e186\"],[0.8,\"#7fbc41\"],[0.9,\"#4d9221\"],[1,\"#276419\"]],\"sequential\":[[0.0,\"#0d0887\"],[0.1111111111111111,\"#46039f\"],[0.2222222222222222,\"#7201a8\"],[0.3333333333333333,\"#9c179e\"],[0.4444444444444444,\"#bd3786\"],[0.5555555555555556,\"#d8576b\"],[0.6666666666666666,\"#ed7953\"],[0.7777777777777778,\"#fb9f3a\"],[0.8888888888888888,\"#fdca26\"],[1.0,\"#f0f921\"]],\"sequentialminus\":[[0.0,\"#0d0887\"],[0.1111111111111111,\"#46039f\"],[0.2222222222222222,\"#7201a8\"],[0.3333333333333333,\"#9c179e\"],[0.4444444444444444,\"#bd3786\"],[0.5555555555555556,\"#d8576b\"],[0.6666666666666666,\"#ed7953\"],[0.7777777777777778,\"#fb9f3a\"],[0.8888888888888888,\"#fdca26\"],[1.0,\"#f0f921\"]]},\"colorway\":[\"#636efa\",\"#EF553B\",\"#00cc96\",\"#ab63fa\",\"#FFA15A\",\"#19d3f3\",\"#FF6692\",\"#B6E880\",\"#FF97FF\",\"#FECB52\"],\"font\":{\"color\":\"#2a3f5f\"},\"geo\":{\"bgcolor\":\"white\",\"lakecolor\":\"white\",\"landcolor\":\"#E5ECF6\",\"showlakes\":true,\"showland\":true,\"subunitcolor\":\"white\"},\"hoverlabel\":{\"align\":\"left\"},\"hovermode\":\"closest\",\"mapbox\":{\"style\":\"light\"},\"paper_bgcolor\":\"white\",\"plot_bgcolor\":\"#E5ECF6\",\"polar\":{\"angularaxis\":{\"gridcolor\":\"white\",\"linecolor\":\"white\",\"ticks\":\"\"},\"bgcolor\":\"#E5ECF6\",\"radialaxis\":{\"gridcolor\":\"white\",\"linecolor\":\"white\",\"ticks\":\"\"}},\"scene\":{\"xaxis\":{\"backgroundcolor\":\"#E5ECF6\",\"gridcolor\":\"white\",\"gridwidth\":2,\"linecolor\":\"white\",\"showbackground\":true,\"ticks\":\"\",\"zerolinecolor\":\"white\"},\"yaxis\":{\"backgroundcolor\":\"#E5ECF6\",\"gridcolor\":\"white\",\"gridwidth\":2,\"linecolor\":\"white\",\"showbackground\":true,\"ticks\":\"\",\"zerolinecolor\":\"white\"},\"zaxis\":{\"backgroundcolor\":\"#E5ECF6\",\"gridcolor\":\"white\",\"gridwidth\":2,\"linecolor\":\"white\",\"showbackground\":true,\"ticks\":\"\",\"zerolinecolor\":\"white\"}},\"shapedefaults\":{\"line\":{\"color\":\"#2a3f5f\"}},\"ternary\":{\"aaxis\":{\"gridcolor\":\"white\",\"linecolor\":\"white\",\"ticks\":\"\"},\"baxis\":{\"gridcolor\":\"white\",\"linecolor\":\"white\",\"ticks\":\"\"},\"bgcolor\":\"#E5ECF6\",\"caxis\":{\"gridcolor\":\"white\",\"linecolor\":\"white\",\"ticks\":\"\"}},\"title\":{\"x\":0.05},\"xaxis\":{\"automargin\":true,\"gridcolor\":\"white\",\"linecolor\":\"white\",\"ticks\":\"\",\"title\":{\"standoff\":15},\"zerolinecolor\":\"white\",\"zerolinewidth\":2},\"yaxis\":{\"automargin\":true,\"gridcolor\":\"white\",\"linecolor\":\"white\",\"ticks\":\"\",\"title\":{\"standoff\":15},\"zerolinecolor\":\"white\",\"zerolinewidth\":2}}},\"title\":{\"text\":\"Population Pyramid from 2015 to 2020 in USA\"},\"xaxis\":{\"title\":{\"text\":\"Population\"}},\"yaxis\":{\"title\":{\"text\":\"Age Group\"}}},                        {\"responsive\": true}                    ).then(function(){\n",
       "                            \n",
       "var gd = document.getElementById('a6fe99f5-d837-45fc-8966-4ddc995efde5');\n",
       "var x = new MutationObserver(function (mutations, observer) {{\n",
       "        var display = window.getComputedStyle(gd).display;\n",
       "        if (!display || display === 'none') {{\n",
       "            console.log([gd, 'removed!']);\n",
       "            Plotly.purge(gd);\n",
       "            observer.disconnect();\n",
       "        }}\n",
       "}});\n",
       "\n",
       "// Listen for the removal of the full notebook cells\n",
       "var notebookContainer = gd.closest('#notebook-container');\n",
       "if (notebookContainer) {{\n",
       "    x.observe(notebookContainer, {childList: true});\n",
       "}}\n",
       "\n",
       "// Listen for the clearing of the current output cell\n",
       "var outputEl = gd.closest('.output');\n",
       "if (outputEl) {{\n",
       "    x.observe(outputEl, {childList: true});\n",
       "}}\n",
       "\n",
       "                        })                };                });            </script>        </div>"
      ]
     },
     "metadata": {},
     "output_type": "display_data"
    }
   ],
   "source": [
    "before_year = int(input(\"Please enter beginning year (should be divisible by 5): \"))  # e.g. 2000, 2005, 2010, 2015 .......\n",
    "post_year = int(input(\"Please enter ending year (should be divisible by 5): \"))  # e.g. 2000, 2005, 2010, 2015 .......\n",
    "year_range = range(post_year, before_year, -5)\n",
    "country_input = str(input(\"Please enter the country name: \"))\n",
    "\n",
    "age_groups = ['0-4', '5-9', '10-14', '15-19', '20-24', '25-29', '30-34', '35-39', '40-44', '45-49', '50-54', '55-59', '60-64', '65-69', '70-74', '75-79']\n",
    "age_range = ['0004', '0509', '1014', '1519', '2024', '2529', '3034', '3539', '4044', '4549', '5054', '5559', '6064', '6569', '7074', '7579']\n",
    "\n",
    "def male_pop_func(year_chosen):\n",
    "    male_population = []  \n",
    "    for age_range_index in age_range:\n",
    "        range_3 = len(wbdata.get_data(\"SP.POP.\" + str(age_range_index) + \".MA\", country=[country_input]))\n",
    "        for index in range(0, range_3):\n",
    "            if wbdata.get_data(\"SP.POP.\" + str(age_range_index) + \".MA\", country=[country_input])[index][\"date\"] == str(year_chosen):\n",
    "                male_population.append(wbdata.get_data(\"SP.POP.\" + str(age_range_index) + \".MA\", country=[country_input])[index][\"value\"])\n",
    "                break\n",
    "    return male_population\n",
    "\n",
    "def female_pop_func(year_chosen):\n",
    "    female_population = []  \n",
    "    for age_range_index in age_range:\n",
    "        range_3 = len(wbdata.get_data(\"SP.POP.\" + str(age_range_index) + \".FE\", country=[country_input]))\n",
    "        for index in range(0, range_3):\n",
    "            if wbdata.get_data(\"SP.POP.\" + str(age_range_index) + \".FE\", country=[country_input])[index][\"date\"] == str(year_chosen):\n",
    "                female_population.append(wbdata.get_data(\"SP.POP.\" + str(age_range_index) + \".FE\", country=[country_input])[index][\"value\"])\n",
    "                break\n",
    "    return female_population\n",
    "\n",
    "bins = []\n",
    "for year_chosen in year_range:\n",
    "    male_data = male_pop_func(year_chosen)\n",
    "    female_data = female_pop_func(year_chosen)\n",
    "\n",
    "    # male\n",
    "    bins.append(go.Bar(\n",
    "        x=male_data,\n",
    "        y=age_groups,\n",
    "        orientation='h',\n",
    "        name='Male {:d}'.format(year_chosen),\n",
    "    ))\n",
    "\n",
    "    # female\n",
    "    bins.append(go.Bar(\n",
    "        x=[-x for x in female_data],\n",
    "        y=age_groups,\n",
    "        orientation='h',\n",
    "        name='Female {:d}'.format(year_chosen),\n",
    "    ))\n",
    "\n",
    "layout = go.Layout(\n",
    "    barmode='overlay',\n",
    "    title='Population Pyramid from ' + str(before_year) + \" to \" + str(post_year) + \" in \" + country_input,\n",
    "    xaxis=dict(title='Population'),\n",
    "    yaxis=dict(title='Age Group')\n",
    ")\n",
    "\n",
    "py.iplot(dict(data=bins, layout=layout))\n"
   ]
  },
  {
   "cell_type": "markdown",
   "id": "d799f1cf",
   "metadata": {},
   "source": [
    "### **[C] Population Maps:**\n",
    "\n",
    "> ###  <span style = \"color:red\"> **⚠️For Codeviewers: If you can't run the code, try to move these the following files \"ne_50m_admin_0_countries.dbf\" & \"ne_50m_admin_0_countries.shp\" & \"ne_50m_admin_0_countries.shx\" into the same location of this notebook.**\r\n",
    "    \r\n",
    "> ###  <span style = \"color:red\"> **⚠️For Codeviewers: It might take much longer time to get the output than you expect.**\r\n",
    "\r\n",
    "\n"
   ]
  },
  {
   "cell_type": "code",
   "execution_count": 32,
   "id": "ef4176fc",
   "metadata": {},
   "outputs": [
    {
     "name": "stdin",
     "output_type": "stream",
     "text": [
      "Please provide year (choose between 1960 and 2022):  2022\n"
     ]
    },
    {
     "data": {
      "image/png": "[encoded data removed]",
      "text/plain": [
       "<Figure size 1500x1000 with 2 Axes>"
      ]
     },
     "metadata": {},
     "output_type": "display_data"
    }
   ],
   "source": [
    "#### It takes much more time to see the output than you expected!!!!!!!!!!!\n",
    "\n",
    "Country = []\n",
    "Population = []\n",
    "user_year = input(\"Please provide year (choose between 1960 and 2022): \")\n",
    "\n",
    "def population_map(year, country):\n",
    "    range_5 = len(wbdata.get_data(\"SP.POP.TOTL\", country = [str(country)]))\n",
    "    for index in range(0, range_5):\n",
    "        if wbdata.get_data(\"SP.POP.TOTL\", country = [str(country)])[index][\"date\"] == str(year):\n",
    "            population_stat = wbdata.get_data(\"SP.POP.TOTL\", country = [str(country)])[index][\"value\"]\n",
    "            country_name = wbdata.get_data(\"SP.POP.TOTL\", country = [str(country)])[index][\"country\"][\"value\"]\n",
    "            break\n",
    "    return population_stat, country_name\n",
    "\n",
    "for country_index in range(0, int(len(wbdata.get_countries()))):\n",
    "    try:\n",
    "        current_id = wbdata.get_countries()[country_index][\"id\"]\n",
    "        country_now = wbdata.get_countries()[country_index][\"name\"]\n",
    "        population_now = int(population_map(user_year, current_id)[0])\n",
    "    except TypeError:\n",
    "        population_now = 0\n",
    "    Population.append(population_now)\n",
    "    Country.append(country_now)\n",
    "\n",
    "population_data = {\n",
    "    'Country': Country,\n",
    "    'Population': Population,\n",
    "}\n",
    "population_df = pd.DataFrame(population_data)\n",
    "\n",
    "\n",
    "# shapefile_path = str(input(\"Provide file path of ne_50m_admin_0_countries.shp (which should be in the same location of this notebook): \"))\n",
    "\n",
    "# gdf = gpd.read_file(\"EEP_153_Adolphe_PROJ1/world_map_data/ne_50m_admin_0_countries.shp\")\n",
    "\n",
    "'''\n",
    "ne_50m_admin_0_countries.dbf & ne_50m_admin_0_countries.shp & ne_50m_admin_0_countries.shx must be in \n",
    "the same location of notebook\n",
    "'''\n",
    "\n",
    "# gdf = gpd.read_file(\"ne_50m_admin_0_countries.dbf\")  # Run this if .shp is not working\n",
    "# gdf = gpd.read_file(\"ne_50m_admin_0_countries.shx\")  # Run this if .shp is not working\n",
    "gdf = gpd.read_file(\"ne_50m_admin_0_countries.shp\")  # Must run\n",
    "\n",
    "# Apply a logarithmic scale to the population data\n",
    "population_df['Log_Population'] = np.log1p(population_df['Population'])\n",
    "\n",
    "merged_df = gdf.merge(population_df, how='left', left_on='SOVEREIGNT', right_on='Country')\n",
    "\n",
    "fig, ax = plt.subplots(1, 1, figsize=(15, 10))\n",
    "merged_df.plot(column='Log_Population', cmap='RdYlGn', linewidth=0.8, ax=ax, edgecolor='0.8', legend=True)\n",
    "\n",
    "ax.set_title('World Population Map (Logarithmic Scale) in ' + str(user_year), fontdict={'fontsize': '15', 'fontweight': '3'})\n",
    "ax.set_axis_off()\n",
    "notation_text = \"NOTE 1: The significant population of China leads to a skewed color scale in the map, therefore we used logarithmic scale for the population data.\\nNOTE 2: Some countries have missing population data, therefore the map is suitable for simple comparisons but not accurate estimations.\"\n",
    "plt.annotate(notation_text, xy=(0.5, -0.1), xycoords=\"axes fraction\", ha=\"center\", fontsize=10, color='maroon')\n",
    "plt.show()"
   ]
  },
  {
   "cell_type": "markdown",
   "id": "6b204b44",
   "metadata": {},
   "source": [
    "### **[C] Other Visualization Tools:**\n",
    "### **_<u>Visualization I: Male and Female Populations Age 0 to 14 (children) from 2015 to 2022 (USA)_**"
   ]
  },
  {
   "cell_type": "code",
   "execution_count": 36,
   "id": "ca9ac166-9300-4368-96ee-551d4cd36334",
   "metadata": {},
   "outputs": [
    {
     "data": {
      "text/html": [
       "        <script type=\"text/javascript\">\n",
       "        window.PlotlyConfig = {MathJaxConfig: 'local'};\n",
       "        if (window.MathJax && window.MathJax.Hub && window.MathJax.Hub.Config) {window.MathJax.Hub.Config({SVG: {font: \"STIX-Web\"}});}\n",
       "        if (typeof require !== 'undefined') {\n",
       "        require.undef(\"plotly\");\n",
       "        requirejs.config({\n",
       "            paths: {\n",
       "                'plotly': ['https://cdn.plot.ly/plotly-2.27.0.min']\n",
       "            }\n",
       "        });\n",
       "        require(['plotly'], function(Plotly) {\n",
       "            window._Plotly = Plotly;\n",
       "        });\n",
       "        }\n",
       "        </script>\n",
       "        "
      ]
     },
     "metadata": {},
     "output_type": "display_data"
    },
    {
     "data": {
      "image/png": "[encoded data removed]",
      "text/plain": [
       "<Figure size 640x480 with 1 Axes>"
      ]
     },
     "metadata": {},
     "output_type": "display_data"
    }
   ],
   "source": [
    "cf.go_offline()\n",
    "\n",
    "indicators_1 = {\"SP.POP.0014.MA.IN\": \"US Male Children Population (Age 0 to 14)\",\n",
    "             \"SP.POP.0014.FE.IN\": \"US Female Children Population (Age 0 to 14)\"}\n",
    "\n",
    "\n",
    "data_USA_1 = wbdata.get_dataframe(indicators_1, country=['USA'])\n",
    "\n",
    "\n",
    "data_USA_1.reset_index(inplace=True)\n",
    "selected_years = [\"2015\",\"2016\",\"2017\",\"2018\",'2019', '2020', '2021', '2022']\n",
    "data_USA_1 = data_USA_1[data_USA_1['date'].isin(selected_years)]\n",
    "data_USA_1.set_index(['date'],inplace=True)\n",
    "data_USA_1.sort_index(ascending=True, inplace=True)\n",
    "data_USA_1[\"US Male Children Population (Age 0 to 14)\"] = data_USA_1[\"US Male Children Population (Age 0 to 14)\"] / 10000000\n",
    "data_USA_1[\"US Female Children Population (Age 0 to 14)\"] = data_USA_1[\"US Female Children Population (Age 0 to 14)\"] / 10000000\n",
    "\n",
    "data_USA_1.plot()\n",
    "plt.title('Male and Female Populations Age 0 to 14 (children) from 2015 to 2022 (USA)')\n",
    "plt.xlabel('Year')\n",
    "plt.ylabel('Children Population (Millions)');"
   ]
  },
  {
   "cell_type": "markdown",
   "id": "7ff2d712",
   "metadata": {},
   "source": [
    "### **_<u>Visualization II: Male and Female Populations Aged 19 to 65 (adults) from 2015 to 2020 (USA)_**"
   ]
  },
  {
   "cell_type": "code",
   "execution_count": 37,
   "id": "6074442a-aced-48c8-b01a-457f6891e95d",
   "metadata": {},
   "outputs": [
    {
     "data": {
      "text/html": [
       "        <script type=\"text/javascript\">\n",
       "        window.PlotlyConfig = {MathJaxConfig: 'local'};\n",
       "        if (window.MathJax && window.MathJax.Hub && window.MathJax.Hub.Config) {window.MathJax.Hub.Config({SVG: {font: \"STIX-Web\"}});}\n",
       "        if (typeof require !== 'undefined') {\n",
       "        require.undef(\"plotly\");\n",
       "        requirejs.config({\n",
       "            paths: {\n",
       "                'plotly': ['https://cdn.plot.ly/plotly-2.27.0.min']\n",
       "            }\n",
       "        });\n",
       "        require(['plotly'], function(Plotly) {\n",
       "            window._Plotly = Plotly;\n",
       "        });\n",
       "        }\n",
       "        </script>\n",
       "        "
      ]
     },
     "metadata": {},
     "output_type": "display_data"
    },
    {
     "data": {
      "image/png": "[encoded data removed]",
      "text/plain": [
       "<Figure size 640x480 with 1 Axes>"
      ]
     },
     "metadata": {},
     "output_type": "display_data"
    }
   ],
   "source": [
    "cf.go_offline()\n",
    "df_1 = pd.DataFrame({\"Year\": year_list, \"US Male Adult (Age 19-65)\": MA_adult_list, 'US Female Adult (Age 19-65)': FE_adult_list})\n",
    "df_1.set_index('Year', inplace=True)\n",
    "df_1['US Male Adult (Age 19-65)'] = df_1['US Male Adult (Age 19-65)'] / 10000000\n",
    "df_1['US Female Adult (Age 19-65)'] = df_1['US Female Adult (Age 19-65)'] / 10000000\n",
    "df_1.plot()\n",
    "plt.title('Male and Female Populations Aged 19 to 65 (adults) from 2015 to 2020 (USA)')\n",
    "plt.xlabel('Year')\n",
    "plt.ylabel('Adult Population (Millions)');"
   ]
  },
  {
   "cell_type": "markdown",
   "id": "62bdd513",
   "metadata": {},
   "source": [
    "### **_<u>Visualization III: Male and Female Populations Aged 65 and Upper (elder people) from 2015 to 2022 (USA)_**"
   ]
  },
  {
   "cell_type": "code",
   "execution_count": 38,
   "id": "de54b3b9-e75c-4951-9526-3a9e5f413a31",
   "metadata": {},
   "outputs": [
    {
     "data": {
      "image/png": "[encoded data removed]",
      "text/plain": [
       "<Figure size 640x480 with 1 Axes>"
      ]
     },
     "metadata": {},
     "output_type": "display_data"
    }
   ],
   "source": [
    "indicators_1 = {\"SP.POP.65UP.FE.IN\": \"US Female Elder People (Age 65 and Upper)\",\n",
    "             \"SP.POP.65UP.MA.IN\": \"US Male Elder People (Age 65 and Upper)\"}\n",
    "\n",
    "\n",
    "data_USA = wbdata.get_dataframe(indicators_1, country=['USA'])\n",
    "\n",
    "\n",
    "data_USA.reset_index(inplace=True)\n",
    "selected_years = [\"2015\",\"2016\",\"2017\",\"2018\",'2019', '2020', '2021', '2022']\n",
    "data_USA = data_USA[data_USA['date'].isin(selected_years)]\n",
    "data_USA.set_index(['date'],inplace=True)\n",
    "data_USA.sort_index(ascending=True, inplace=True)\n",
    "data_USA['US Female Elder People (Age 65 and Upper)'] = data_USA['US Female Elder People (Age 65 and Upper)'] / 10000000\n",
    "data_USA['US Male Elder People (Age 65 and Upper)'] = data_USA['US Male Elder People (Age 65 and Upper)'] / 10000000\n",
    "\n",
    "data_USA.plot()\n",
    "plt.title('Male and Female Populations Aged 60 and Upper (elder people) from 2015 to 2022 (USA)')\n",
    "plt.xlabel('Year')\n",
    "plt.ylabel('Elder People Population (Millions)');\n"
   ]
  },
  {
   "cell_type": "markdown",
   "id": "6c15a184",
   "metadata": {},
   "source": [
    "<br>\n",
    "\n",
    "## **4. Presentation Link:**"
   ]
  },
  {
   "cell_type": "markdown",
   "id": "a8967918",
   "metadata": {},
   "source": []
  },
  {
   "cell_type": "markdown",
   "id": "316262f0",
   "metadata": {},
   "source": [
    "<br>\n",
    "\n",
    "## **5. Project Conclusion:**"
   ]
  },
  {
   "cell_type": "markdown",
   "id": "229731c6",
   "metadata": {},
   "source": []
  }
 ],
 "metadata": {
  "kernelspec": {
   "display_name": "Python 3 (ipykernel)",
   "language": "python",
   "name": "python3"
  },
  "language_info": {
   "codemirror_mode": {
    "name": "ipython",
    "version": 3
   },
   "file_extension": ".py",
   "mimetype": "text/x-python",
   "name": "python",
   "nbconvert_exporter": "python",
   "pygments_lexer": "ipython3",
   "version": "3.9.15"
  }
 },
 "nbformat": 4,
 "nbformat_minor": 5
}
